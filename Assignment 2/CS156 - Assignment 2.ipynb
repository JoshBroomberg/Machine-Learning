{
 "cells": [
  {
   "cell_type": "code",
   "execution_count": 1,
   "metadata": {
    "collapsed": true
   },
   "outputs": [],
   "source": [
    "import pandas as pd\n",
    "import numpy as np\n",
    "import matplotlib.pyplot as plt\n",
    "\n",
    "from sklearn_pandas import DataFrameMapper\n",
    "\n",
    "from sklearn import preprocessing\n",
    "from sklearn.ensemble import RandomForestClassifier, RandomForestRegressor\n",
    "from sklearn.model_selection import train_test_split\n",
    "from sklearn.metrics import classification_report\n",
    "from sklearn import metrics\n",
    "\n",
    "from sklearn.model_selection import GridSearchCV\n",
    "from sklearn.pipeline import Pipeline\n",
    "from sklearn.feature_selection import SelectKBest\n",
    "from sklearn.linear_model import SGDRegressor\n",
    "\n",
    "from sklearn.externals import joblib\n",
    "\n",
    "import warnings\n",
    "warnings.filterwarnings(\"ignore\")"
   ]
  },
  {
   "cell_type": "markdown",
   "metadata": {},
   "source": [
    "# Assignment 2 - Lending Club Predictive Model\n",
    "## Josh Broomberg\n",
    "\n",
    "This assigment is broken down into two parts. First, **data preparation**. Second, **modelling**. Part 1, covers the techniques used for data cleaning, feature selection, and feature prepation. Part 2, covers the methodology and results for the predictive modelling. \n",
    "\n"
   ]
  },
  {
   "cell_type": "markdown",
   "metadata": {},
   "source": [
    "## Part 1: Data Preparation\n",
    "\n",
    "Preparing the raw data involved 4 discrete steps. First, choosing which data to use. Second, preparing the two sets of data, covering accepted and rejected loans, for merge. Third, data cleaning and preparation, which involved handling missing data, cleaning text columns, and assigning categories. And, finally, preparing features for modelling - encoding and scaling the features. \n",
    "\n",
    "### 1. Choosing Data\n",
    "\n",
    "** Selecting a Time Range **\n",
    "\n",
    "The very first step in the process of data preparation was choosing which data to use, both in terms of the range of historical data to incorporate and which features to select from particular range. We selected Q3 2017, the most recent subset of data, as a starting point. This made sense for two reasons. First, that this range alone had over 1 million rows - an ample number of examples to work with. But, more importantly, we hypothesize that loan decisions will be correlated with time such that using the most recent data should give the best predictions when this model is production. \n",
    "\n",
    "The thinking behind the time correlation is two-fold. First, because macro-economic conditions affect the amount of free capital (savings) which can be loaned. These conditions change on a year-to-year basis depending on interest rate, economic growth etc. Second, because smart lenders should incorporate prior loan performence/information into new loan decisions. This means trying to predict loan decision behaviour across a large time series would probably involve modelling slightly-different, backward-dependent decision functions. If this is the case, then the most recent data has incoporated the learning of the past, so it is best to use only the recent data. If we are wrong, and there is no correlation, then not much is lost in using on Q3 2017. More data could always be used for training later. \n",
    "\n",
    "** Selecting Features **\n",
    "\n",
    "As a rule, selecting+engineering features involves maximizing the amount of information available to the model subject to any constraints. In this case, the first constraint was clear: in order to build a model which incorported both accepted and rejected data, the features used had to be present across both datasets. This essentially made the rejected data the guide for feature selection due to the much smaller number of features in the reject data. It's worth noting that this constraint didn't actually translate into substantial information loss. The majority of features in the accepted data concerned loan performence post-acceptance. Any information on loan approval coming from these features would indicate 'learning' on behalf of lenders, and we hoped that this learning would be largely incorporated into the accept/reject decisions in 2017 as explained above. So, the smaller number of features in the reject data was actually a useful tool to process an otherwise overwhelmingly-large accepted feature set. \n",
    "\n",
    "The features used where as below:\n",
    "\n",
    "| Feature Name | Name in Rejected Data | Name in Accepted Data |\n",
    "|--------------|-----------------------|-----------------------|\n",
    "| loan_amnt    | Amount Requested      |  loan_amnt            |\n",
    "| funded_amnt  |            0          |  funded_amnt          |\n",
    "| title        | Loan Title            |  purpose              |\n",
    "| dti          | Debt-To-Income Ratio  |  dti                  |\n",
    "| zip          | Zip Code              |zip_code               |\n",
    "| state        | State                 |   addr_state          |\n",
    "|  emp_len     | Employment Length     | emp_length            |\n",
    "| approved     | FALSE                 |      True             |\n",
    "|  grade       | Risk_Score            |     sub_grade         |\n",
    "\n",
    "1. **Loan_amnt** represents the amount requested by the borrower. This is was central to the first modelling approach.\n",
    "2. **Funded_amount** represents the amount granted by the Lending Club. This was set to 0 for the rejected borrowers. This feature was central to the other modelling approach. \n",
    "3. **Title** represents the high level purpose/reason for the loan. In the reject data this was free form text provided by the applicant. In the accepted data, this was pre-clean and always took on one of a few predefined category values. \n",
    "4. **Dti** represents the borrowers debt to incoming ratio. This was a text column with a '%' sign in the reject data and a numerical column in the accepted data.\n",
    "5. **Zip** and **state** represent the location of the borrower. These were in the same format accross both data sets. \n",
    "6. **Emp_len** is the length of employment. This was categorical for both data sets, with the possible of n/a (presumably for unemployed individuals or those who didn't declare employment). \n",
    "7. **Approved** was a synthetic variable added by us to mark which data set the observation came from. \n",
    "8. **Grade** represents a borrowers creditworthiness. In the accepted data, we used sub_grade which had an alphanumeric ranking for tranches A1 - G5. Research showed that these tranches were assigned based on the borrowers credit score - which was represented as Risk_Score in the reject data. More on this later. \n",
    "\n",
    "The only two columns from the reject data which were not used were **application date** and **policy code**.\n",
    "- **Policy code** was excluded because research (found [here](https://www.lendacademy.com/policy-code-2-loans-lending-club/)) showed that it was assigned to particularly high-risk lenders based on credit score. Thus, we excluded it because the information contained was tightly correlated to **grade**. This decision was only made after data cleaning had be performed, so the column is still present in the code below (although not in the models). \n",
    "\n",
    "\n",
    "- **Application date** was excluded because there was no clear counter-part in the accepted data (only the loan disbursement date was recorded) and we didn't believe the precise date would convey meaningful information (that would generalize into the future)."
   ]
  },
  {
   "cell_type": "markdown",
   "metadata": {},
   "source": [
    "### 2. Preparing Data for Merge\n",
    "\n",
    "Our goal was to do the majority of cleaning on the merged data set to avoid duplicated effort. So only minimal work strictly required by only one subset of the data was performed. This meant transforming two columns in the reject data to match the form on the accepted table/improve usability for the model.\n",
    "\n",
    "- The percentage sign was removed from the reject dti column and the data cast to numeric type.\n",
    "- The **Risk Score** was split into 35 bins corresponding to the 35 **sub_grades** on the accept table. The choice to preserve the bins was based on a hypothesis about relevant information. It is unlikely that variation in the 15 FICO point range in each bin would provide much information. Thus, it was sufficient to retain on the 'grade' and not the score itself.\n",
    "\n",
    "After these modifications, the two data sets were merged."
   ]
  },
  {
   "cell_type": "markdown",
   "metadata": {},
   "source": [
    "#### Reading in the Data"
   ]
  },
  {
   "cell_type": "code",
   "execution_count": 2,
   "metadata": {
    "scrolled": true
   },
   "outputs": [
    {
     "data": {
      "text/html": [
       "<div>\n",
       "<style scoped>\n",
       "    .dataframe tbody tr th:only-of-type {\n",
       "        vertical-align: middle;\n",
       "    }\n",
       "\n",
       "    .dataframe tbody tr th {\n",
       "        vertical-align: top;\n",
       "    }\n",
       "\n",
       "    .dataframe thead th {\n",
       "        text-align: right;\n",
       "    }\n",
       "</style>\n",
       "<table border=\"1\" class=\"dataframe\">\n",
       "  <thead>\n",
       "    <tr style=\"text-align: right;\">\n",
       "      <th></th>\n",
       "      <th>id</th>\n",
       "      <th>member_id</th>\n",
       "      <th>loan_amnt</th>\n",
       "      <th>funded_amnt</th>\n",
       "      <th>funded_amnt_inv</th>\n",
       "      <th>term</th>\n",
       "      <th>int_rate</th>\n",
       "      <th>installment</th>\n",
       "      <th>grade</th>\n",
       "      <th>sub_grade</th>\n",
       "      <th>...</th>\n",
       "      <th>hardship_payoff_balance_amount</th>\n",
       "      <th>hardship_last_payment_amount</th>\n",
       "      <th>disbursement_method</th>\n",
       "      <th>debt_settlement_flag</th>\n",
       "      <th>debt_settlement_flag_date</th>\n",
       "      <th>settlement_status</th>\n",
       "      <th>settlement_date</th>\n",
       "      <th>settlement_amount</th>\n",
       "      <th>settlement_percentage</th>\n",
       "      <th>settlement_term</th>\n",
       "    </tr>\n",
       "  </thead>\n",
       "  <tbody>\n",
       "    <tr>\n",
       "      <th>0</th>\n",
       "      <td>NaN</td>\n",
       "      <td>NaN</td>\n",
       "      <td>7000</td>\n",
       "      <td>7000</td>\n",
       "      <td>7000</td>\n",
       "      <td>36 months</td>\n",
       "      <td>7.97%</td>\n",
       "      <td>219.26</td>\n",
       "      <td>A</td>\n",
       "      <td>A5</td>\n",
       "      <td>...</td>\n",
       "      <td>NaN</td>\n",
       "      <td>NaN</td>\n",
       "      <td>Cash</td>\n",
       "      <td>N</td>\n",
       "      <td>NaN</td>\n",
       "      <td>NaN</td>\n",
       "      <td>NaN</td>\n",
       "      <td>NaN</td>\n",
       "      <td>NaN</td>\n",
       "      <td>NaN</td>\n",
       "    </tr>\n",
       "    <tr>\n",
       "      <th>1</th>\n",
       "      <td>NaN</td>\n",
       "      <td>NaN</td>\n",
       "      <td>32000</td>\n",
       "      <td>32000</td>\n",
       "      <td>32000</td>\n",
       "      <td>36 months</td>\n",
       "      <td>11.99%</td>\n",
       "      <td>1062.71</td>\n",
       "      <td>B</td>\n",
       "      <td>B5</td>\n",
       "      <td>...</td>\n",
       "      <td>NaN</td>\n",
       "      <td>NaN</td>\n",
       "      <td>Cash</td>\n",
       "      <td>N</td>\n",
       "      <td>NaN</td>\n",
       "      <td>NaN</td>\n",
       "      <td>NaN</td>\n",
       "      <td>NaN</td>\n",
       "      <td>NaN</td>\n",
       "      <td>NaN</td>\n",
       "    </tr>\n",
       "    <tr>\n",
       "      <th>2</th>\n",
       "      <td>NaN</td>\n",
       "      <td>NaN</td>\n",
       "      <td>16000</td>\n",
       "      <td>16000</td>\n",
       "      <td>16000</td>\n",
       "      <td>36 months</td>\n",
       "      <td>7.97%</td>\n",
       "      <td>501.17</td>\n",
       "      <td>A</td>\n",
       "      <td>A5</td>\n",
       "      <td>...</td>\n",
       "      <td>NaN</td>\n",
       "      <td>NaN</td>\n",
       "      <td>Cash</td>\n",
       "      <td>N</td>\n",
       "      <td>NaN</td>\n",
       "      <td>NaN</td>\n",
       "      <td>NaN</td>\n",
       "      <td>NaN</td>\n",
       "      <td>NaN</td>\n",
       "      <td>NaN</td>\n",
       "    </tr>\n",
       "    <tr>\n",
       "      <th>3</th>\n",
       "      <td>NaN</td>\n",
       "      <td>NaN</td>\n",
       "      <td>40000</td>\n",
       "      <td>40000</td>\n",
       "      <td>40000</td>\n",
       "      <td>60 months</td>\n",
       "      <td>15.05%</td>\n",
       "      <td>952.65</td>\n",
       "      <td>C</td>\n",
       "      <td>C4</td>\n",
       "      <td>...</td>\n",
       "      <td>NaN</td>\n",
       "      <td>NaN</td>\n",
       "      <td>Cash</td>\n",
       "      <td>N</td>\n",
       "      <td>NaN</td>\n",
       "      <td>NaN</td>\n",
       "      <td>NaN</td>\n",
       "      <td>NaN</td>\n",
       "      <td>NaN</td>\n",
       "      <td>NaN</td>\n",
       "    </tr>\n",
       "    <tr>\n",
       "      <th>4</th>\n",
       "      <td>NaN</td>\n",
       "      <td>NaN</td>\n",
       "      <td>33000</td>\n",
       "      <td>33000</td>\n",
       "      <td>33000</td>\n",
       "      <td>36 months</td>\n",
       "      <td>7.21%</td>\n",
       "      <td>1022.12</td>\n",
       "      <td>A</td>\n",
       "      <td>A3</td>\n",
       "      <td>...</td>\n",
       "      <td>NaN</td>\n",
       "      <td>NaN</td>\n",
       "      <td>Cash</td>\n",
       "      <td>N</td>\n",
       "      <td>NaN</td>\n",
       "      <td>NaN</td>\n",
       "      <td>NaN</td>\n",
       "      <td>NaN</td>\n",
       "      <td>NaN</td>\n",
       "      <td>NaN</td>\n",
       "    </tr>\n",
       "  </tbody>\n",
       "</table>\n",
       "<p>5 rows × 145 columns</p>\n",
       "</div>"
      ],
      "text/plain": [
       "   id  member_id  loan_amnt  funded_amnt  funded_amnt_inv        term  \\\n",
       "0 NaN        NaN       7000         7000             7000   36 months   \n",
       "1 NaN        NaN      32000        32000            32000   36 months   \n",
       "2 NaN        NaN      16000        16000            16000   36 months   \n",
       "3 NaN        NaN      40000        40000            40000   60 months   \n",
       "4 NaN        NaN      33000        33000            33000   36 months   \n",
       "\n",
       "  int_rate  installment grade sub_grade       ...         \\\n",
       "0    7.97%       219.26     A        A5       ...          \n",
       "1   11.99%      1062.71     B        B5       ...          \n",
       "2    7.97%       501.17     A        A5       ...          \n",
       "3   15.05%       952.65     C        C4       ...          \n",
       "4    7.21%      1022.12     A        A3       ...          \n",
       "\n",
       "  hardship_payoff_balance_amount hardship_last_payment_amount  \\\n",
       "0                            NaN                          NaN   \n",
       "1                            NaN                          NaN   \n",
       "2                            NaN                          NaN   \n",
       "3                            NaN                          NaN   \n",
       "4                            NaN                          NaN   \n",
       "\n",
       "  disbursement_method  debt_settlement_flag debt_settlement_flag_date  \\\n",
       "0                Cash                     N                       NaN   \n",
       "1                Cash                     N                       NaN   \n",
       "2                Cash                     N                       NaN   \n",
       "3                Cash                     N                       NaN   \n",
       "4                Cash                     N                       NaN   \n",
       "\n",
       "  settlement_status settlement_date settlement_amount  settlement_percentage  \\\n",
       "0               NaN             NaN               NaN                    NaN   \n",
       "1               NaN             NaN               NaN                    NaN   \n",
       "2               NaN             NaN               NaN                    NaN   \n",
       "3               NaN             NaN               NaN                    NaN   \n",
       "4               NaN             NaN               NaN                    NaN   \n",
       "\n",
       "   settlement_term  \n",
       "0              NaN  \n",
       "1              NaN  \n",
       "2              NaN  \n",
       "3              NaN  \n",
       "4              NaN  \n",
       "\n",
       "[5 rows x 145 columns]"
      ]
     },
     "execution_count": 2,
     "metadata": {},
     "output_type": "execute_result"
    }
   ],
   "source": [
    "# The last 3 rows are empty\n",
    "accepted_data = pd.read_csv(\"./CS156/LoanStats_2017Q3.csv\", header=0, skipfooter=3, engine=\"python\")\n",
    "accepted_data.head()"
   ]
  },
  {
   "cell_type": "code",
   "execution_count": 3,
   "metadata": {
    "scrolled": true
   },
   "outputs": [
    {
     "data": {
      "text/html": [
       "<div>\n",
       "<style scoped>\n",
       "    .dataframe tbody tr th:only-of-type {\n",
       "        vertical-align: middle;\n",
       "    }\n",
       "\n",
       "    .dataframe tbody tr th {\n",
       "        vertical-align: top;\n",
       "    }\n",
       "\n",
       "    .dataframe thead th {\n",
       "        text-align: right;\n",
       "    }\n",
       "</style>\n",
       "<table border=\"1\" class=\"dataframe\">\n",
       "  <thead>\n",
       "    <tr style=\"text-align: right;\">\n",
       "      <th></th>\n",
       "      <th>Amount Requested</th>\n",
       "      <th>Application Date</th>\n",
       "      <th>Loan Title</th>\n",
       "      <th>Risk_Score</th>\n",
       "      <th>Debt-To-Income Ratio</th>\n",
       "      <th>Zip Code</th>\n",
       "      <th>State</th>\n",
       "      <th>Employment Length</th>\n",
       "      <th>Policy Code</th>\n",
       "    </tr>\n",
       "  </thead>\n",
       "  <tbody>\n",
       "    <tr>\n",
       "      <th>0</th>\n",
       "      <td>3000</td>\n",
       "      <td>7/1/17</td>\n",
       "      <td>medical</td>\n",
       "      <td>NaN</td>\n",
       "      <td>0.24%</td>\n",
       "      <td>373xx</td>\n",
       "      <td>TN</td>\n",
       "      <td>5 years</td>\n",
       "      <td>0</td>\n",
       "    </tr>\n",
       "    <tr>\n",
       "      <th>1</th>\n",
       "      <td>15000</td>\n",
       "      <td>7/1/17</td>\n",
       "      <td>car</td>\n",
       "      <td>NaN</td>\n",
       "      <td>0.71%</td>\n",
       "      <td>945xx</td>\n",
       "      <td>CA</td>\n",
       "      <td>NaN</td>\n",
       "      <td>0</td>\n",
       "    </tr>\n",
       "    <tr>\n",
       "      <th>2</th>\n",
       "      <td>2000</td>\n",
       "      <td>7/1/17</td>\n",
       "      <td>debt_consolidation</td>\n",
       "      <td>NaN</td>\n",
       "      <td>40.90%</td>\n",
       "      <td>532xx</td>\n",
       "      <td>WI</td>\n",
       "      <td>5 years</td>\n",
       "      <td>0</td>\n",
       "    </tr>\n",
       "    <tr>\n",
       "      <th>3</th>\n",
       "      <td>5000</td>\n",
       "      <td>7/1/17</td>\n",
       "      <td>Moving and relocation</td>\n",
       "      <td>537.0</td>\n",
       "      <td>5.84%</td>\n",
       "      <td>606xx</td>\n",
       "      <td>IL</td>\n",
       "      <td>&lt; 1 year</td>\n",
       "      <td>0</td>\n",
       "    </tr>\n",
       "    <tr>\n",
       "      <th>4</th>\n",
       "      <td>20000</td>\n",
       "      <td>7/1/17</td>\n",
       "      <td>debt_consolidation</td>\n",
       "      <td>NaN</td>\n",
       "      <td>45.59%</td>\n",
       "      <td>917xx</td>\n",
       "      <td>CA</td>\n",
       "      <td>&lt; 1 year</td>\n",
       "      <td>0</td>\n",
       "    </tr>\n",
       "  </tbody>\n",
       "</table>\n",
       "</div>"
      ],
      "text/plain": [
       "   Amount Requested Application Date             Loan Title  Risk_Score  \\\n",
       "0              3000           7/1/17                medical         NaN   \n",
       "1             15000           7/1/17                    car         NaN   \n",
       "2              2000           7/1/17     debt_consolidation         NaN   \n",
       "3              5000           7/1/17  Moving and relocation       537.0   \n",
       "4             20000           7/1/17     debt_consolidation         NaN   \n",
       "\n",
       "  Debt-To-Income Ratio Zip Code State Employment Length  Policy Code  \n",
       "0                0.24%    373xx    TN           5 years            0  \n",
       "1                0.71%    945xx    CA               NaN            0  \n",
       "2               40.90%    532xx    WI           5 years            0  \n",
       "3                5.84%    606xx    IL          < 1 year            0  \n",
       "4               45.59%    917xx    CA          < 1 year            0  "
      ]
     },
     "execution_count": 3,
     "metadata": {},
     "output_type": "execute_result"
    }
   ],
   "source": [
    "rejected_data = pd.read_csv(\"./CS156/RejectStats_2017Q3.csv\", header=0, engine=\"python\")\n",
    "rejected_data.head()"
   ]
  },
  {
   "cell_type": "markdown",
   "metadata": {},
   "source": [
    "#### Merging the Data Sets"
   ]
  },
  {
   "cell_type": "markdown",
   "metadata": {},
   "source": [
    "**Accepted data**"
   ]
  },
  {
   "cell_type": "code",
   "execution_count": 4,
   "metadata": {},
   "outputs": [
    {
     "data": {
      "text/html": [
       "<div>\n",
       "<style scoped>\n",
       "    .dataframe tbody tr th:only-of-type {\n",
       "        vertical-align: middle;\n",
       "    }\n",
       "\n",
       "    .dataframe tbody tr th {\n",
       "        vertical-align: top;\n",
       "    }\n",
       "\n",
       "    .dataframe thead th {\n",
       "        text-align: right;\n",
       "    }\n",
       "</style>\n",
       "<table border=\"1\" class=\"dataframe\">\n",
       "  <thead>\n",
       "    <tr style=\"text-align: right;\">\n",
       "      <th></th>\n",
       "      <th>loan_amnt</th>\n",
       "      <th>funded_amnt</th>\n",
       "      <th>title</th>\n",
       "      <th>dti</th>\n",
       "      <th>zip</th>\n",
       "      <th>state</th>\n",
       "      <th>emp_len</th>\n",
       "      <th>approved</th>\n",
       "      <th>lc_code</th>\n",
       "      <th>grade</th>\n",
       "    </tr>\n",
       "  </thead>\n",
       "  <tbody>\n",
       "    <tr>\n",
       "      <th>0</th>\n",
       "      <td>7000</td>\n",
       "      <td>7000</td>\n",
       "      <td>debt_consolidation</td>\n",
       "      <td>12.27</td>\n",
       "      <td>604xx</td>\n",
       "      <td>IL</td>\n",
       "      <td>10+ years</td>\n",
       "      <td>True</td>\n",
       "      <td>1</td>\n",
       "      <td>A5</td>\n",
       "    </tr>\n",
       "    <tr>\n",
       "      <th>1</th>\n",
       "      <td>32000</td>\n",
       "      <td>32000</td>\n",
       "      <td>credit_card</td>\n",
       "      <td>12.35</td>\n",
       "      <td>080xx</td>\n",
       "      <td>NJ</td>\n",
       "      <td>10+ years</td>\n",
       "      <td>True</td>\n",
       "      <td>1</td>\n",
       "      <td>B5</td>\n",
       "    </tr>\n",
       "    <tr>\n",
       "      <th>2</th>\n",
       "      <td>16000</td>\n",
       "      <td>16000</td>\n",
       "      <td>debt_consolidation</td>\n",
       "      <td>15.94</td>\n",
       "      <td>223xx</td>\n",
       "      <td>VA</td>\n",
       "      <td>5 years</td>\n",
       "      <td>True</td>\n",
       "      <td>1</td>\n",
       "      <td>A5</td>\n",
       "    </tr>\n",
       "    <tr>\n",
       "      <th>3</th>\n",
       "      <td>40000</td>\n",
       "      <td>40000</td>\n",
       "      <td>debt_consolidation</td>\n",
       "      <td>31.11</td>\n",
       "      <td>778xx</td>\n",
       "      <td>TX</td>\n",
       "      <td>9 years</td>\n",
       "      <td>True</td>\n",
       "      <td>1</td>\n",
       "      <td>C4</td>\n",
       "    </tr>\n",
       "    <tr>\n",
       "      <th>4</th>\n",
       "      <td>33000</td>\n",
       "      <td>33000</td>\n",
       "      <td>debt_consolidation</td>\n",
       "      <td>19.06</td>\n",
       "      <td>750xx</td>\n",
       "      <td>TX</td>\n",
       "      <td>&lt; 1 year</td>\n",
       "      <td>True</td>\n",
       "      <td>1</td>\n",
       "      <td>A3</td>\n",
       "    </tr>\n",
       "  </tbody>\n",
       "</table>\n",
       "</div>"
      ],
      "text/plain": [
       "   loan_amnt  funded_amnt               title    dti    zip state    emp_len  \\\n",
       "0       7000         7000  debt_consolidation  12.27  604xx    IL  10+ years   \n",
       "1      32000        32000         credit_card  12.35  080xx    NJ  10+ years   \n",
       "2      16000        16000  debt_consolidation  15.94  223xx    VA    5 years   \n",
       "3      40000        40000  debt_consolidation  31.11  778xx    TX    9 years   \n",
       "4      33000        33000  debt_consolidation  19.06  750xx    TX   < 1 year   \n",
       "\n",
       "   approved  lc_code grade  \n",
       "0      True        1    A5  \n",
       "1      True        1    B5  \n",
       "2      True        1    A5  \n",
       "3      True        1    C4  \n",
       "4      True        1    A3  "
      ]
     },
     "execution_count": 4,
     "metadata": {},
     "output_type": "execute_result"
    }
   ],
   "source": [
    "# Omit all columns not present in the reject data.\n",
    "# Add colum for approved status (always false)\n",
    "\n",
    "# Purpose is a cleaner version of title, broken into categories.\n",
    "cleaned_accept_data = accepted_data.loc[:, [\"loan_amnt\", 'funded_amnt', \"purpose\", \"dti\", \"zip_code\", \"addr_state\", \"emp_length\", \"approved\", \"policy_code\", \"sub_grade\"]]\n",
    "\n",
    "# Add values to new columns\n",
    "cleaned_accept_data[\"approved\"] = True\n",
    "\n",
    "# Set shared column names\n",
    "cleaned_accept_data.columns = ['loan_amnt', 'funded_amnt','title','dti','zip','state','emp_len','approved', 'lc_code', 'grade']\n",
    "\n",
    "cleaned_accept_data.head()"
   ]
  },
  {
   "cell_type": "markdown",
   "metadata": {},
   "source": [
    "**Rejected data**"
   ]
  },
  {
   "cell_type": "code",
   "execution_count": 12,
   "metadata": {
    "scrolled": false
   },
   "outputs": [
    {
     "data": {
      "text/html": [
       "<div>\n",
       "<style scoped>\n",
       "    .dataframe tbody tr th:only-of-type {\n",
       "        vertical-align: middle;\n",
       "    }\n",
       "\n",
       "    .dataframe tbody tr th {\n",
       "        vertical-align: top;\n",
       "    }\n",
       "\n",
       "    .dataframe thead th {\n",
       "        text-align: right;\n",
       "    }\n",
       "</style>\n",
       "<table border=\"1\" class=\"dataframe\">\n",
       "  <thead>\n",
       "    <tr style=\"text-align: right;\">\n",
       "      <th></th>\n",
       "      <th>loan_amnt</th>\n",
       "      <th>funded_amnt</th>\n",
       "      <th>title</th>\n",
       "      <th>dti</th>\n",
       "      <th>zip</th>\n",
       "      <th>state</th>\n",
       "      <th>emp_len</th>\n",
       "      <th>approved</th>\n",
       "      <th>lc_code</th>\n",
       "      <th>grade</th>\n",
       "    </tr>\n",
       "  </thead>\n",
       "  <tbody>\n",
       "    <tr>\n",
       "      <th>0</th>\n",
       "      <td>3000</td>\n",
       "      <td>0</td>\n",
       "      <td>medical</td>\n",
       "      <td>0.24</td>\n",
       "      <td>373xx</td>\n",
       "      <td>TN</td>\n",
       "      <td>5 years</td>\n",
       "      <td>False</td>\n",
       "      <td>0</td>\n",
       "      <td>NaN</td>\n",
       "    </tr>\n",
       "    <tr>\n",
       "      <th>1</th>\n",
       "      <td>15000</td>\n",
       "      <td>0</td>\n",
       "      <td>car</td>\n",
       "      <td>0.71</td>\n",
       "      <td>945xx</td>\n",
       "      <td>CA</td>\n",
       "      <td>NaN</td>\n",
       "      <td>False</td>\n",
       "      <td>0</td>\n",
       "      <td>NaN</td>\n",
       "    </tr>\n",
       "    <tr>\n",
       "      <th>2</th>\n",
       "      <td>2000</td>\n",
       "      <td>0</td>\n",
       "      <td>debt_consolidation</td>\n",
       "      <td>40.90</td>\n",
       "      <td>532xx</td>\n",
       "      <td>WI</td>\n",
       "      <td>5 years</td>\n",
       "      <td>False</td>\n",
       "      <td>0</td>\n",
       "      <td>NaN</td>\n",
       "    </tr>\n",
       "    <tr>\n",
       "      <th>3</th>\n",
       "      <td>5000</td>\n",
       "      <td>0</td>\n",
       "      <td>Moving and relocation</td>\n",
       "      <td>5.84</td>\n",
       "      <td>606xx</td>\n",
       "      <td>IL</td>\n",
       "      <td>&lt; 1 year</td>\n",
       "      <td>False</td>\n",
       "      <td>0</td>\n",
       "      <td>D1</td>\n",
       "    </tr>\n",
       "    <tr>\n",
       "      <th>4</th>\n",
       "      <td>20000</td>\n",
       "      <td>0</td>\n",
       "      <td>debt_consolidation</td>\n",
       "      <td>45.59</td>\n",
       "      <td>917xx</td>\n",
       "      <td>CA</td>\n",
       "      <td>&lt; 1 year</td>\n",
       "      <td>False</td>\n",
       "      <td>0</td>\n",
       "      <td>NaN</td>\n",
       "    </tr>\n",
       "  </tbody>\n",
       "</table>\n",
       "</div>"
      ],
      "text/plain": [
       "   loan_amnt  funded_amnt                  title    dti    zip state  \\\n",
       "0       3000            0                medical   0.24  373xx    TN   \n",
       "1      15000            0                    car   0.71  945xx    CA   \n",
       "2       2000            0     debt_consolidation  40.90  532xx    WI   \n",
       "3       5000            0  Moving and relocation   5.84  606xx    IL   \n",
       "4      20000            0     debt_consolidation  45.59  917xx    CA   \n",
       "\n",
       "    emp_len  approved  lc_code grade  \n",
       "0   5 years     False        0   NaN  \n",
       "1       NaN     False        0   NaN  \n",
       "2   5 years     False        0   NaN  \n",
       "3  < 1 year     False        0    D1  \n",
       "4  < 1 year     False        0   NaN  "
      ]
     },
     "execution_count": 12,
     "metadata": {},
     "output_type": "execute_result"
    }
   ],
   "source": [
    "# Omit Risk Score and Application Date because they are present in the accept set.\n",
    "# Add colum for funded amount (always 0) and approved status (always false)\n",
    "cleaned_reject_data = rejected_data.loc[:, [\"Amount Requested\", 'funded_amnt', \"Loan Title\", \"Debt-To-Income Ratio\", \"Zip Code\", \"State\", \"Employment Length\", \"approved\", \"Policy Code\", \"Risk_Score\"]]\n",
    "\n",
    "# Add values to new columns\n",
    "cleaned_reject_data[\"funded_amnt\"] = 0\n",
    "cleaned_reject_data[\"approved\"] = False\n",
    "\n",
    "# Set shared column names\n",
    "cleaned_reject_data.columns = ['loan_amnt', 'funded_amnt','title','dti','zip','state','emp_len','approved', 'lc_code', 'grade']\n",
    "\n",
    "# Clean the Debt-to-Income column by removing the %:\n",
    "cleaned_reject_data[\"dti\"] = cleaned_reject_data[\"dti\"].replace({'%':''}, regex = True)\n",
    "\n",
    "# Make the risk score match the grades in the accepted set\n",
    "# by spliting the continuous variable into buckets which match \n",
    "# the division in the accepted data.\n",
    "custom_bucket_array = np.linspace(300, 850, 36)\n",
    "labels = [\"{}{}\".format(chr(letter), number) for letter in range(65, 72) for number in range(1, 6)]\n",
    "cleaned_reject_data['grade'] = pd.cut(cleaned_reject_data['grade'], bins=custom_bucket_array, labels=labels)\n",
    "\n",
    "cleaned_reject_data.head()"
   ]
  },
  {
   "cell_type": "code",
   "execution_count": 13,
   "metadata": {
    "collapsed": true
   },
   "outputs": [],
   "source": [
    "loan_data = pd.concat([cleaned_accept_data, cleaned_reject_data])"
   ]
  },
  {
   "cell_type": "markdown",
   "metadata": {},
   "source": [
    "### 3. Data Cleaning and Preparation\n",
    "\n",
    "The next step was to clean the data in the merged set. The primarily concerned handling missing information as well as some other small actions.\n",
    "\n",
    "** Handling Missing Data **\n",
    "\n",
    "A scan for missing fields is displayed below. This was used to guide the cleaning process. The following actions were taken for each column:\n",
    "\n",
    "- **Grade** had 615526 missing values, around 53% of the total data. This meant any imputation risked materially skewing the data for what would likely be an important feature. So, we decided to drop all rows that had a missing grade. It's worth noting that we ran cross-validation on the data set with missing grade data filled in as the middle bucket (under the working assumption that this was 'neutral' information). This value, D3, became the most important feature in our model (after one-hot encoding) and the approximated performence declined. This was a good case of CV preventing poor data cleaning.\n",
    "\n",
    "\n",
    "- **Zip** had one missing value, so this row was dropped without much further thought. \n",
    "\n",
    "\n",
    "- **Title** had 412 missing values. These were set to be the category 'other' under the assumption that there was no meaningful difference between the information contained by a blank field vs an other field. Both are essentially the choice not to reveal the loan's purpose. This would be worth validating if there were more observations with missing title, indicating a potentially menaingful pattern. In this case, there were too few for this to be relevant.\n",
    "\n",
    "\n",
    "- **DTI** had 412 missing values and required a little more leg work to repair. We thought, a priori, that this feature was important and worth preserving. Exploration of the distribution using a histogram revealed extreme outliers, so we decided to impute the value using the median of the column as the more robust statistic. It is worth nothing that DTI also had a number of -1 values. We assumed that the -1 represented a person with no income, such that their DTI would be inf. Under this assumption, when we later scaled the feature, we replace the -inf that resulted from $\\log{(1+(-1))}$ with the max of the scaled feature.\n",
    "\n",
    "\n",
    "- **Employment length** had 71882 missing values (around 6% of the data set). We set these to the category 'n/a' under the assumption that missing information on employment should be treated as no employment. It is highly unlikely that someone applying for a loan, who is employed, would choose not to reveal this employment if it did exist. We felt fairly comfortable with this equivocation.\n",
    "\n",
    "** Title Text Cleanup **\n",
    "\n",
    "The title (purpose) text from the reject data appeared to be broader than the categories in the accepted data. We used regex to apply a simple key word heuristic in order to narrow down the categories. For example any reason that contained the word 'car' was classified as a car loan. The regex rules are visible in the code below. The final categories were:\n",
    "\n",
    "- business\n",
    "- moving\n",
    "- credit card\n",
    "- car\n",
    "- medical\n",
    "- green loan\n",
    "- other\n",
    "\n",
    "** Categorization **\n",
    "\n",
    "Finally, the fields below were cast as pandas categorical variables in preparation for encoding. These were all fairly clearly categorical in nature. Two decisions are worth mentioning. First, we chose to set employment length as an unordered categorical rather than as an ordinal category. We thought the relationship between employment length and reliability/approval could be non-linear so we thought that the model should be given the flexibility to treat each employment period as a distinct feature rather than looking at an ordinal range. Similar logic applied to the grade feature. Second, we choose to leave state/zip in the raw form rather than doing any engineering to group zip codes together (perhaps by wealth?). This was largely due to time constraints. It is also worth noting that there is an obvious overlap in information between zip/state. The model we used was robust to correlated variables, so we decided to leave both in. More on this later.\n",
    "\n",
    "The following features were made into categories:\n",
    "\n",
    "- emp_len\n",
    "- title\n",
    "- zip\n",
    "- state\n",
    "- grade\n",
    "\n",
    "The code for cleaning the data is below:\n",
    "\n",
    "#### Clean Combined data"
   ]
  },
  {
   "cell_type": "code",
   "execution_count": 18,
   "metadata": {},
   "outputs": [
    {
     "name": "stdout",
     "output_type": "stream",
     "text": [
      "loan_amnt: 0, 0.0%\n",
      "funded_amnt: 0, 0.0%\n",
      "title: 412, 0.0352%\n",
      "dti: 184, 0.0157%\n",
      "zip: 1, 9.999999999999999e-05%\n",
      "state: 0, 0.0%\n",
      "emp_len: 71882, 6.1371%\n",
      "approved: 0, 0.0%\n",
      "lc_code: 0, 0.0%\n",
      "grade: 615526, 52.55180000000001%\n"
     ]
    }
   ],
   "source": [
    "# Explore for NAs\n",
    "for column in loan_data.columns:\n",
    "    blanks = loan_data[column].isnull().sum()\n",
    "    print(\"{}: {}, {}%\".format(column, blanks, 100*np.round(blanks/float(len(loan_data)), 6)))"
   ]
  },
  {
   "cell_type": "code",
   "execution_count": 19,
   "metadata": {},
   "outputs": [
    {
     "data": {
      "text/plain": [
       "loan_amnt       int64\n",
       "funded_amnt     int64\n",
       "title          object\n",
       "dti            object\n",
       "zip            object\n",
       "state          object\n",
       "emp_len        object\n",
       "approved         bool\n",
       "lc_code         int64\n",
       "grade          object\n",
       "dtype: object"
      ]
     },
     "execution_count": 19,
     "metadata": {},
     "output_type": "execute_result"
    }
   ],
   "source": [
    "loan_data.dtypes"
   ]
  },
  {
   "cell_type": "markdown",
   "metadata": {},
   "source": [
    "** Remove NAs **"
   ]
  },
  {
   "cell_type": "code",
   "execution_count": 20,
   "metadata": {},
   "outputs": [
    {
     "name": "stdout",
     "output_type": "stream",
     "text": [
      "NA in Grade: 0\n"
     ]
    }
   ],
   "source": [
    "### Grade\n",
    "\n",
    "# Strategy 1: Replace all grades with the median. \n",
    "# Rejected because this ended up becoming the most important feature\n",
    "# and we have enough data without this imputation.\n",
    "# Replace all missing grades with the middle bucket.\n",
    "\n",
    "# loan_data.grade.fillna(\"C3\", inplace=True)\n",
    "\n",
    "# Strategy 2: Drop all rows with missing grade.\n",
    "loan_data = loan_data[pd.notnull(loan_data['grade'])]\n",
    "print(\"NA in Grade: {}\".format(loan_data[\"grade\"].isnull().sum()))"
   ]
  },
  {
   "cell_type": "code",
   "execution_count": 21,
   "metadata": {},
   "outputs": [
    {
     "name": "stdout",
     "output_type": "stream",
     "text": [
      "NA in Zip: 0\n"
     ]
    }
   ],
   "source": [
    "### ZIP\n",
    "\n",
    "# For the single missing zip, drop the row. \n",
    "loan_data = loan_data[pd.notnull(loan_data['zip'])]\n",
    "print(\"NA in Zip: {}\".format(loan_data[\"zip\"].isnull().sum()))"
   ]
  },
  {
   "cell_type": "code",
   "execution_count": 22,
   "metadata": {},
   "outputs": [
    {
     "name": "stdout",
     "output_type": "stream",
     "text": [
      "NA in emp_len: 0\n"
     ]
    }
   ],
   "source": [
    "### Emp_len\n",
    "\n",
    "# Treat NAs here as a declaration of \"not applicable\" by the applicant.\n",
    "loan_data.emp_len.fillna(\"n/a\", inplace=True)\n",
    "print(\"NA in emp_len: {}\".format(loan_data[\"emp_len\"].isnull().sum()))"
   ]
  },
  {
   "cell_type": "code",
   "execution_count": 23,
   "metadata": {},
   "outputs": [
    {
     "data": {
      "image/png": "[encoded data removed]",
      "text/plain": [
       "<matplotlib.figure.Figure at 0x7f38e8cc1898>"
      ]
     },
     "metadata": {},
     "output_type": "display_data"
    },
    {
     "name": "stdout",
     "output_type": "stream",
     "text": [
      "DTI Stats\n",
      "median 21.43\n",
      "max 266775.0\n",
      "mean 87.8605798421\n"
     ]
    },
    {
     "data": {
      "image/png": "[encoded data removed]",
      "text/plain": [
       "<matplotlib.figure.Figure at 0x7f38dce782e8>"
      ]
     },
     "metadata": {},
     "output_type": "display_data"
    }
   ],
   "source": [
    "### DTI\n",
    "\n",
    "stripped_dti = pd.to_numeric(pd.Series(loan_data.dti.dropna())).values\n",
    "\n",
    "# For the DTI, an initial plot shows a weird histogram. \n",
    "plt.hist(stripped_dti, bins=10)\n",
    "plt.title(\"Unmodified DTI Histogram\")\n",
    "plt.show()\n",
    "\n",
    "# Exploring the stats shows clear skew:\n",
    "print(\"DTI Stats\")\n",
    "print(\"median\", np.median(stripped_dti))\n",
    "print(\"max\", np.max(stripped_dti))\n",
    "print(\"mean\", np.mean(stripped_dti))\n",
    "\n",
    "# This is revealed in a moderated histogram.\n",
    "plt.hist(pd.to_numeric(pd.Series(loan_data.dti.dropna())).values, bins=10, range=(0, 400))\n",
    "plt.title(\"DTI Histogram excluding outliers\")\n",
    "plt.show()"
   ]
  },
  {
   "cell_type": "code",
   "execution_count": 24,
   "metadata": {},
   "outputs": [
    {
     "name": "stdout",
     "output_type": "stream",
     "text": [
      "NA in DTI: 0\n"
     ]
    }
   ],
   "source": [
    "# Replace the missing DTI values with the median.\n",
    "# as this is more robust to outliers than the mean.\n",
    "loan_data.dti.fillna(np.median(stripped_dti), inplace=True)\n",
    "loan_data[\"dti\"] = pd.to_numeric(loan_data[\"dti\"])\n",
    "\n",
    "print(\"NA in DTI: {}\".format(loan_data[\"dti\"].isnull().sum()))"
   ]
  },
  {
   "cell_type": "code",
   "execution_count": 25,
   "metadata": {},
   "outputs": [
    {
     "name": "stdout",
     "output_type": "stream",
     "text": [
      "Titles prior to clean\n",
      "['debt_consolidation' 'credit_card' 'home_improvement' 'car' 'other'\n",
      " 'major_purchase' 'house' 'medical' 'moving' 'small_business' 'vacation'\n",
      " 'renewable_energy' 'Moving and relocation' 'Home improvement'\n",
      " 'Debt consolidation' 'Credit card refinancing' 'Car financing'\n",
      " 'Home buying' 'Business' 'Vacation' 'Other' 'Major purchase'\n",
      " 'Medical expenses' 'Green loan']\n"
     ]
    }
   ],
   "source": [
    "### TITLE\n",
    "\n",
    "print(\"Titles prior to clean\")\n",
    "print(loan_data.title.unique())"
   ]
  },
  {
   "cell_type": "code",
   "execution_count": 26,
   "metadata": {},
   "outputs": [
    {
     "name": "stdout",
     "output_type": "stream",
     "text": [
      "['debt consolidation' 'credit card' 'home improvement' 'car' 'other'\n",
      " 'major purchase' 'house' 'medical' 'moving' 'business' 'vacation'\n",
      " 'green loan' 'home buying']\n",
      "NA in Title: 0\n"
     ]
    }
   ],
   "source": [
    "replacements = {\n",
    "      r\"_\": \" \",\n",
    "      r\".*(business).*\": \"business\",\n",
    "      r\".*(moving).*\": \"moving\",\n",
    "      r\"(credit card).*\": \"credit card\",\n",
    "      r\"^(car).*\": \"car\",\n",
    "      r\"(medical).*\": \"medical\",\n",
    "      r\"renewable energy\": \"green loan\"\n",
    "    \n",
    "}\n",
    "loan_data.title = loan_data.title.str.lower()\n",
    "loan_data.title.replace(replacements, regex=True, inplace=True)\n",
    "loan_data.title.fillna(\"other\", inplace = True)\n",
    "\n",
    "\n",
    "print(loan_data.title.unique())\n",
    "print(\"NA in Title: {}\".format(loan_data[\"title\"].isnull().sum()))"
   ]
  },
  {
   "cell_type": "code",
   "execution_count": 27,
   "metadata": {},
   "outputs": [
    {
     "name": "stdout",
     "output_type": "stream",
     "text": [
      "loan_amnt: 0\n",
      "funded_amnt: 0\n",
      "title: 0\n",
      "dti: 0\n",
      "zip: 0\n",
      "state: 0\n",
      "emp_len: 0\n",
      "approved: 0\n",
      "lc_code: 0\n",
      "grade: 0\n"
     ]
    }
   ],
   "source": [
    "# Explore for NAs\n",
    "for column in loan_data.columns:\n",
    "    print(\"{}: {}\".format(column, loan_data[column].isnull().sum()))"
   ]
  },
  {
   "cell_type": "code",
   "execution_count": 28,
   "metadata": {},
   "outputs": [
    {
     "data": {
      "text/plain": [
       "loan_amnt        int64\n",
       "funded_amnt      int64\n",
       "title           object\n",
       "dti            float64\n",
       "zip             object\n",
       "state           object\n",
       "emp_len         object\n",
       "approved          bool\n",
       "lc_code          int64\n",
       "grade           object\n",
       "dtype: object"
      ]
     },
     "execution_count": 28,
     "metadata": {},
     "output_type": "execute_result"
    }
   ],
   "source": [
    "loan_data.dtypes"
   ]
  },
  {
   "cell_type": "markdown",
   "metadata": {},
   "source": [
    "** Assign Categories to Categorical Data **"
   ]
  },
  {
   "cell_type": "code",
   "execution_count": 29,
   "metadata": {
    "collapsed": true
   },
   "outputs": [],
   "source": [
    "# DEPRECATED: Category assignment\n",
    "# loan_data[\"emp_len\"] = pd.Series(\n",
    "#     pd.Categorical(\n",
    "#         loan_data.emp_len,\n",
    "#         categories=['n/a', '< 1 year', '1 year', '2 years', '3 years','4 years', '5 years', '6 years', '7 years', '8 years', '9 years', '10+ years'], ordered=True))\n",
    "# emp_categories = ['n/a', '< 1 year', '1 year', '2 years', '3 years','4 years', '5 years', '6 years', '7 years', '8 years', '9 years', '10+ years']"
   ]
  },
  {
   "cell_type": "code",
   "execution_count": 18,
   "metadata": {
    "collapsed": true
   },
   "outputs": [],
   "source": [
    "# Assigned categories to emp_len, title, zip, and state\n",
    "fields = [\"emp_len\", \"title\", \"zip\", \"state\", \"grade\"]\n",
    "for field in fields:\n",
    "    loan_data[field] = loan_data[field].astype('category')\n",
    "\n",
    "# Test\n",
    "loan_data[\"emp_len\"].value_counts()"
   ]
  },
  {
   "cell_type": "markdown",
   "metadata": {},
   "source": [
    "### 4. Encoding and Scaling\n",
    "\n",
    "At this stage, all the features have been cleaned. The final step before modelling is to encode and scale. This was primarly done using the data_frame mapper which bridges pandas dataframes with scikit feature encoders. This automated much of the process.\n",
    "\n",
    "- ** Encoding Categorical Features: ** Zip, Employment Length, Grade, State, and Title were encoded using the OneHotEncoder. This produces n features for the n unique values in each category. The assumption being that there is no ordinality in the category. The use of this encoding was justified in section 3 above.\n",
    "\n",
    "\n",
    "- ** Scaling Continuous Features: ** more care was taken with DTI, Loan Amount, and Funded Amount. Examination of the plots revealed positively skewed distributions across the board, with a particularly bad skew on DTI. Additionally, it was clear from the plots that there were outliers present in the DTI feature and that the reject data was substantially affecting the distribution of funded amount. Two actions were taken - first, each of the features was logged in order to bring exponential patterns into the linear domain. Second, each of the three was scaled using the scikit RobustScaler. This scaler removes the median from the value and divides by the inter-quartile range (rather than removing the mean and dividing by the standard deviation) which makes it more robust to outliers. The result of these transformations, as seen in the post-processing plots, was that all three features had a dsitrbution which appeared approximate-normal. The key observation here is that the resultant distributions encode roughly the same information as the original values but the approximate-normal shape means they better conforms to the assumptions underlying the model training process. IE, that statistics like MSE are an accurate description of the models fit.\n",
    "\n",
    "\n",
    "- ** Spotting Imbalances in Categorical Features **: the normalization/scaling stage was a natural place to explore the distribution of all features. We observe when looking at the breakdown of the Approved and Grade features that both of these features also have a fairly pronounced skew toward one/some categories. Action was taken to correct the skew on approved during the modelling process. No action was taken to address the imbalance in grade distribution. Further work would aim to address this to see if it generated improved performence."
   ]
  },
  {
   "cell_type": "code",
   "execution_count": 43,
   "metadata": {},
   "outputs": [
    {
     "name": "stdout",
     "output_type": "stream",
     "text": [
      "loan_amnt\n",
      "Mean: 12914.44373988977\n",
      "Median: 10000.0\n",
      "Max: 87750\n",
      "\n",
      "funded_amnt\n",
      "Mean: 3223.0402573823794\n",
      "Median: 0.0\n",
      "Max: 40000\n",
      "\n",
      "dti\n",
      "Mean: 87.83858569246266\n",
      "Median: 21.43\n",
      "Max: 266775.0\n",
      "\n"
     ]
    },
    {
     "data": {
      "image/png": "[encoded data removed]",
      "text/plain": [
       "<matplotlib.figure.Figure at 0x7f38ef653b00>"
      ]
     },
     "metadata": {},
     "output_type": "display_data"
    },
    {
     "data": {
      "image/png": "[encoded data removed]",
      "text/plain": [
       "<matplotlib.figure.Figure at 0x7f38e357d320>"
      ]
     },
     "metadata": {},
     "output_type": "display_data"
    },
    {
     "data": {
      "image/png": "[encoded data removed]",
      "text/plain": [
       "<matplotlib.figure.Figure at 0x7f38eaa3a160>"
      ]
     },
     "metadata": {},
     "output_type": "display_data"
    },
    {
     "data": {
      "image/png": "[encoded data removed]",
      "text/plain": [
       "<matplotlib.figure.Figure at 0x7f3948396e80>"
      ]
     },
     "metadata": {},
     "output_type": "display_data"
    },
    {
     "data": {
      "image/png": "[encoded data removed]",
      "text/plain": [
       "<matplotlib.figure.Figure at 0x7f38e9bb1c18>"
      ]
     },
     "metadata": {},
     "output_type": "display_data"
    }
   ],
   "source": [
    "# First, naive plot\n",
    "for column in ['loan_amnt', 'funded_amnt', 'dti']:\n",
    "    loan_data.hist(column=column)\n",
    "    print(column)\n",
    "    print(\"Mean: {}\".format(np.mean(loan_data[column])))\n",
    "    print(\"Median: {}\".format(np.median(loan_data[column])))\n",
    "    print(\"Max: {}\".format(np.max(loan_data[column])))\n",
    "    print()\n",
    "    \n",
    "plt.show()  \n",
    "\n",
    "loan_data['grade'].value_counts().plot(kind='bar', title=\"grade\")\n",
    "plt.show()  \n",
    "\n",
    "loan_data['approved'].value_counts().plot(kind='pie', title=\"approved\")\n",
    "plt.show()   "
   ]
  },
  {
   "cell_type": "code",
   "execution_count": 20,
   "metadata": {},
   "outputs": [
    {
     "data": {
      "image/png": "[encoded data removed]",
      "text/plain": [
       "<matplotlib.figure.Figure at 0x7fcd196bc940>"
      ]
     },
     "metadata": {},
     "output_type": "display_data"
    },
    {
     "data": {
      "image/png": "[encoded data removed]",
      "text/plain": [
       "<matplotlib.figure.Figure at 0x7fcd1e4ef080>"
      ]
     },
     "metadata": {},
     "output_type": "display_data"
    },
    {
     "data": {
      "image/png": "[encoded data removed]",
      "text/plain": [
       "<matplotlib.figure.Figure at 0x7fcd1e32cbe0>"
      ]
     },
     "metadata": {},
     "output_type": "display_data"
    },
    {
     "data": {
      "image/png": "[encoded data removed]",
      "text/plain": [
       "<matplotlib.figure.Figure at 0x7fcd1da5f1d0>"
      ]
     },
     "metadata": {},
     "output_type": "display_data"
    },
    {
     "data": {
      "image/png": "[encoded data removed]",
      "text/plain": [
       "<matplotlib.figure.Figure at 0x7fcd1d76e390>"
      ]
     },
     "metadata": {},
     "output_type": "display_data"
    }
   ],
   "source": [
    "# Make some quick manual adjusted to represent what\n",
    "# the removal of the outliers. \n",
    "plots = {\n",
    "    \"loan_amnt\": {\"range\": (0, 40000)}, # outliers removed\n",
    "    \"funded_amnt\": {\"range\": (1, 40000)}, # zeros removed\n",
    "    \"approved\": {\"bins\": 2},\n",
    "    \"lc_code\": {\"bins\": 3},\n",
    "    \"dti\": {\"range\": (0, 300)}} # outliers removed\n",
    "\n",
    "for column, kwargs in plots.items():\n",
    "    loan_data.hist(column=column, **kwargs)\n",
    "\n",
    "plt.show()"
   ]
  },
  {
   "cell_type": "markdown",
   "metadata": {},
   "source": [
    "** Begin Processing**"
   ]
  },
  {
   "cell_type": "code",
   "execution_count": 21,
   "metadata": {},
   "outputs": [
    {
     "name": "stdout",
     "output_type": "stream",
     "text": [
      "emp_len processed\n",
      "grade processed\n",
      "title processed\n",
      "zip processed\n",
      "state processed\n"
     ]
    }
   ],
   "source": [
    "# Convert categories to integers so\n",
    "# that they can be processed by scikit.\n",
    "\n",
    "fields = [\"emp_len\", \"grade\", \"title\", \"zip\", \"state\"]\n",
    "for field in fields:\n",
    "    print(field + \" processed\")\n",
    "    loan_data[field] = loan_data[field].cat.codes"
   ]
  },
  {
   "cell_type": "code",
   "execution_count": 22,
   "metadata": {
    "collapsed": true
   },
   "outputs": [],
   "source": [
    "# Scale the numercial values\n",
    "\n",
    "loan_data.loan_amnt = loan_data.loan_amnt.apply(np.log1p)\n",
    "loan_data.funded_amnt = loan_data.funded_amnt.apply(np.log1p)\n",
    "loan_data.dti = loan_data.dti.apply(np.log1p)\n",
    "\n",
    "# Assume that the -1 in the DTI column represents \n",
    "# a person with no income, such that their DTI would be inf. \n",
    "# Under this assumption, replace the -inf result of log(1+-1)\n",
    "# with the max of the dist.\n",
    "loan_data.dti = loan_data.dti.replace(-np.inf, max(loan_data.dti)+1)"
   ]
  },
  {
   "cell_type": "code",
   "execution_count": 23,
   "metadata": {
    "collapsed": true
   },
   "outputs": [],
   "source": [
    "# Apply the correct encoding/scaling to \n",
    "# each of the features.\n",
    "encode_data = DataFrameMapper([\n",
    "        (['zip'], [preprocessing.OneHotEncoder()]),\n",
    "        (['emp_len'], [preprocessing.OneHotEncoder()]),\n",
    "        (['grade'], [preprocessing.OneHotEncoder()]),\n",
    "        (['title'], [preprocessing.OneHotEncoder()]),\n",
    "        (['state'], [preprocessing.OneHotEncoder()]),\n",
    "        (['dti'], [preprocessing.RobustScaler()]),\n",
    "        (['loan_amnt'], [preprocessing.RobustScaler()]),\n",
    "        (['funded_amnt'], [preprocessing.RobustScaler()]),\n",
    "        ('approved', None),\n",
    "        \n",
    "    \n",
    "    # Retired Features\n",
    "    # lc_code, research revealed policy code is a proxy for risk score\n",
    "    # and is only assigned to accepted loans.\n",
    "    #         (['lc_code'], [preprocessing.OneHotEncoder()]),\n",
    "    ], df_out= True)\n",
    "\n",
    "processed_loan_data = encode_data.fit_transform(loan_data)\n",
    "\n",
    "write = False\n",
    "if write:\n",
    "    # Output the processed data to file to avoid\n",
    "    # the need to rerun the processing while working\n",
    "    # on the model in a new session.\n",
    "    processed_loan_data.to_csv(\"prepared_loan_data.csv\")"
   ]
  },
  {
   "cell_type": "code",
   "execution_count": 24,
   "metadata": {},
   "outputs": [
    {
     "data": {
      "text/html": [
       "<div>\n",
       "<style scoped>\n",
       "    .dataframe tbody tr th:only-of-type {\n",
       "        vertical-align: middle;\n",
       "    }\n",
       "\n",
       "    .dataframe tbody tr th {\n",
       "        vertical-align: top;\n",
       "    }\n",
       "\n",
       "    .dataframe thead th {\n",
       "        text-align: right;\n",
       "    }\n",
       "</style>\n",
       "<table border=\"1\" class=\"dataframe\">\n",
       "  <thead>\n",
       "    <tr style=\"text-align: right;\">\n",
       "      <th></th>\n",
       "      <th>zip_0</th>\n",
       "      <th>zip_1</th>\n",
       "      <th>zip_2</th>\n",
       "      <th>zip_3</th>\n",
       "      <th>zip_4</th>\n",
       "      <th>zip_5</th>\n",
       "      <th>zip_6</th>\n",
       "      <th>zip_7</th>\n",
       "      <th>zip_8</th>\n",
       "      <th>zip_9</th>\n",
       "      <th>...</th>\n",
       "      <th>state_45</th>\n",
       "      <th>state_46</th>\n",
       "      <th>state_47</th>\n",
       "      <th>state_48</th>\n",
       "      <th>state_49</th>\n",
       "      <th>state_50</th>\n",
       "      <th>dti</th>\n",
       "      <th>loan_amnt</th>\n",
       "      <th>funded_amnt</th>\n",
       "      <th>approved</th>\n",
       "    </tr>\n",
       "  </thead>\n",
       "  <tbody>\n",
       "    <tr>\n",
       "      <th>0</th>\n",
       "      <td>0.0</td>\n",
       "      <td>0.0</td>\n",
       "      <td>0.0</td>\n",
       "      <td>0.0</td>\n",
       "      <td>0.0</td>\n",
       "      <td>0.0</td>\n",
       "      <td>0.0</td>\n",
       "      <td>0.0</td>\n",
       "      <td>0.0</td>\n",
       "      <td>0.0</td>\n",
       "      <td>...</td>\n",
       "      <td>0.0</td>\n",
       "      <td>0.0</td>\n",
       "      <td>0.0</td>\n",
       "      <td>0.0</td>\n",
       "      <td>0.0</td>\n",
       "      <td>0.0</td>\n",
       "      <td>-0.492785</td>\n",
       "      <td>-0.257284</td>\n",
       "      <td>8.853808</td>\n",
       "      <td>1.0</td>\n",
       "    </tr>\n",
       "    <tr>\n",
       "      <th>1</th>\n",
       "      <td>0.0</td>\n",
       "      <td>0.0</td>\n",
       "      <td>0.0</td>\n",
       "      <td>0.0</td>\n",
       "      <td>0.0</td>\n",
       "      <td>0.0</td>\n",
       "      <td>0.0</td>\n",
       "      <td>0.0</td>\n",
       "      <td>0.0</td>\n",
       "      <td>0.0</td>\n",
       "      <td>...</td>\n",
       "      <td>0.0</td>\n",
       "      <td>0.0</td>\n",
       "      <td>0.0</td>\n",
       "      <td>0.0</td>\n",
       "      <td>0.0</td>\n",
       "      <td>0.0</td>\n",
       "      <td>-0.487147</td>\n",
       "      <td>0.839077</td>\n",
       "      <td>10.373522</td>\n",
       "      <td>1.0</td>\n",
       "    </tr>\n",
       "    <tr>\n",
       "      <th>2</th>\n",
       "      <td>0.0</td>\n",
       "      <td>0.0</td>\n",
       "      <td>0.0</td>\n",
       "      <td>0.0</td>\n",
       "      <td>0.0</td>\n",
       "      <td>0.0</td>\n",
       "      <td>0.0</td>\n",
       "      <td>0.0</td>\n",
       "      <td>0.0</td>\n",
       "      <td>0.0</td>\n",
       "      <td>...</td>\n",
       "      <td>1.0</td>\n",
       "      <td>0.0</td>\n",
       "      <td>0.0</td>\n",
       "      <td>0.0</td>\n",
       "      <td>0.0</td>\n",
       "      <td>0.0</td>\n",
       "      <td>-0.263744</td>\n",
       "      <td>0.339046</td>\n",
       "      <td>9.680406</td>\n",
       "      <td>1.0</td>\n",
       "    </tr>\n",
       "    <tr>\n",
       "      <th>3</th>\n",
       "      <td>0.0</td>\n",
       "      <td>0.0</td>\n",
       "      <td>0.0</td>\n",
       "      <td>0.0</td>\n",
       "      <td>0.0</td>\n",
       "      <td>0.0</td>\n",
       "      <td>0.0</td>\n",
       "      <td>0.0</td>\n",
       "      <td>0.0</td>\n",
       "      <td>0.0</td>\n",
       "      <td>...</td>\n",
       "      <td>0.0</td>\n",
       "      <td>0.0</td>\n",
       "      <td>0.0</td>\n",
       "      <td>0.0</td>\n",
       "      <td>0.0</td>\n",
       "      <td>0.0</td>\n",
       "      <td>0.336118</td>\n",
       "      <td>1.000054</td>\n",
       "      <td>10.596660</td>\n",
       "      <td>1.0</td>\n",
       "    </tr>\n",
       "    <tr>\n",
       "      <th>4</th>\n",
       "      <td>0.0</td>\n",
       "      <td>0.0</td>\n",
       "      <td>0.0</td>\n",
       "      <td>0.0</td>\n",
       "      <td>0.0</td>\n",
       "      <td>0.0</td>\n",
       "      <td>0.0</td>\n",
       "      <td>0.0</td>\n",
       "      <td>0.0</td>\n",
       "      <td>0.0</td>\n",
       "      <td>...</td>\n",
       "      <td>0.0</td>\n",
       "      <td>0.0</td>\n",
       "      <td>0.0</td>\n",
       "      <td>0.0</td>\n",
       "      <td>0.0</td>\n",
       "      <td>0.0</td>\n",
       "      <td>-0.105170</td>\n",
       "      <td>0.861276</td>\n",
       "      <td>10.404293</td>\n",
       "      <td>1.0</td>\n",
       "    </tr>\n",
       "  </tbody>\n",
       "</table>\n",
       "<p>5 rows × 1057 columns</p>\n",
       "</div>"
      ],
      "text/plain": [
       "   zip_0  zip_1  zip_2  zip_3  zip_4  zip_5  zip_6  zip_7  zip_8  zip_9  \\\n",
       "0    0.0    0.0    0.0    0.0    0.0    0.0    0.0    0.0    0.0    0.0   \n",
       "1    0.0    0.0    0.0    0.0    0.0    0.0    0.0    0.0    0.0    0.0   \n",
       "2    0.0    0.0    0.0    0.0    0.0    0.0    0.0    0.0    0.0    0.0   \n",
       "3    0.0    0.0    0.0    0.0    0.0    0.0    0.0    0.0    0.0    0.0   \n",
       "4    0.0    0.0    0.0    0.0    0.0    0.0    0.0    0.0    0.0    0.0   \n",
       "\n",
       "     ...     state_45  state_46  state_47  state_48  state_49  state_50  \\\n",
       "0    ...          0.0       0.0       0.0       0.0       0.0       0.0   \n",
       "1    ...          0.0       0.0       0.0       0.0       0.0       0.0   \n",
       "2    ...          1.0       0.0       0.0       0.0       0.0       0.0   \n",
       "3    ...          0.0       0.0       0.0       0.0       0.0       0.0   \n",
       "4    ...          0.0       0.0       0.0       0.0       0.0       0.0   \n",
       "\n",
       "        dti  loan_amnt  funded_amnt  approved  \n",
       "0 -0.492785  -0.257284     8.853808       1.0  \n",
       "1 -0.487147   0.839077    10.373522       1.0  \n",
       "2 -0.263744   0.339046     9.680406       1.0  \n",
       "3  0.336118   1.000054    10.596660       1.0  \n",
       "4 -0.105170   0.861276    10.404293       1.0  \n",
       "\n",
       "[5 rows x 1057 columns]"
      ]
     },
     "execution_count": 24,
     "metadata": {},
     "output_type": "execute_result"
    }
   ],
   "source": [
    "processed_loan_data.head()"
   ]
  },
  {
   "cell_type": "code",
   "execution_count": 25,
   "metadata": {},
   "outputs": [
    {
     "data": {
      "image/png": "[encoded data removed]",
      "text/plain": [
       "<matplotlib.figure.Figure at 0x7fcd1cad9588>"
      ]
     },
     "metadata": {},
     "output_type": "display_data"
    }
   ],
   "source": [
    "processed_loan_data.hist(column=\"loan_amnt\")\n",
    "plt.show()"
   ]
  },
  {
   "cell_type": "code",
   "execution_count": 26,
   "metadata": {},
   "outputs": [
    {
     "data": {
      "image/png": "[encoded data removed]",
      "text/plain": [
       "<matplotlib.figure.Figure at 0x7fcd1c0093c8>"
      ]
     },
     "metadata": {},
     "output_type": "display_data"
    }
   ],
   "source": [
    "processed_loan_data.hist(column=\"dti\")\n",
    "plt.show()"
   ]
  },
  {
   "cell_type": "markdown",
   "metadata": {},
   "source": [
    "## Part 2: Modelling\n",
    "\n",
    "Onto the modelling! This was an interesting problem, because it lended itself to both regression and classicifaction (and potentially a combination). Classification arises if we phrase the question as: \"How high can the loan amount be before yielding a rejection\". Regression arises if we phrase this problem as \"what does the average recipient with features X receive in terms of funding\" (such that it's probable that requesting more than this amount would yield a rejection). Both approaches appear viable, and both were implemented. The detail is below. However, before getting to this, we discuss our model choice.\n",
    "\n",
    "Both the classification and regression were built using a Random Forest (although a slightly different flavour for each model type). This choice was made because Random Forests have a number of properties which were partcularly well suited to this problem:\n",
    "\n",
    "- First, the model fitting procedure produces what's called an Out-of-Bag (OOB) error which approximates the test error. This is possible because each tree is built using a bootstrapped sample which exludes an average of 1/3 of the observations per tree. Each observation is then classified/regressed using the trees which did not see that observation during training to create the OOB. This is essentially a built-in cross-validation process, which allows for the evaluation of small changes without having to explcitly run CV. \n",
    "\n",
    "\n",
    "- Second, the model benefits from a large number of features wit. This stems from the fact that a random forest creates variance amongst the individual trees by limiting which features can be split on at each decision node. This means different features are given a change to influence predictions even if they would normally be consistently dominated in a linear regression setting. The result is that Random Forests can extract a lot of information from features even if they are  numerous and correlated with each other. \n",
    "\n",
    "- Third, Random Forests protect against overfitting (to a certain extent). Random Forests use relatively small decision trees in large numbers. In this setting, each tree has relatively high bias (because of the feature limiting described above) but averaging the prediction from the trees nullifies this bias and produces a prediction with very low variance. The result is that the model is not particularly sensitive to the noise in the training data. If the hyperparamaters of the model, discussed shortly, are kept within normal range. It is hard to overfit.\n",
    "\n",
    "** Random Forest Parameters **\n",
    "\n",
    "Our work foused on two of the +-10 hyperparameters available when using a Random Forest. Namely, **max tree depth** and **max number of features**. The max tree depth controls how many splits there are on each tree effectively controlling the variance of each tree. The more splits are made, the closer the dependency between the tree shape and the the observations used. The max number of features controls the tree bias. The fewer features are used, the more systematic error there will be in the trees predictions. The key to a random forest is that this systematic bias is zero-mean and should average out when many trees are used together.\n",
    "\n",
    "There are other hyperparameters which affect the fitting process. Many like the minimum number of observations in a leaf, or the minimum purity increase also affect the variance of the trees grown by changing when/how many splits occur. The scoring function is also important, but this is specific to each of the classifier/regressor.\n",
    "\n",
    "** Sample weighting **\n",
    "\n",
    "One final note is that sample weighting was an important components of the model fitting process in both model types. In the classifier, the balanced_subsample option was used to assign weights to samples based on the inverse proportion of a class *within the bootstrap sample for each tree*. The regression was run with and without weighting to determine which was the best for performence. \n",
    "\n",
    "\n",
    "With these shared premises estblished, we move onto the classification approach. \n",
    "\n",
    "### Classification\n",
    "\n",
    "** Methodology **\n",
    "\n",
    "The key idea here is to build a model which can predict whether or not a loan will be rejected. Once this is done, we can accept some feature set X which will include the amount of funds requested (loan amount) and other features specific to the person. Then, to create a prediction of maximum amount fundable, we would keep all features except loan amount constant and increase loan amount until the loan classification changed from accepted to rejected (at some defined probability threshold). It's worth noting that the loan status could flip between accepted and rejected more than once if the fitted function is non-linear in amount (which is likely). \n",
    "\n",
    "In order to pursue this idea, a Random Forest classifier was fit to the class-weighted data. No particular emphasis was placed on avoiding false-positives or negatives because it is not clear that either of these results is more damaging than the other. Applying for a loan with an amount that is too high (false positive) has a large administrative cost and may affect your credit. Not applying for a loan when you need a specific amount (after a false negative) may mean you lose out on necessary funding for a project/purchase. This dynamic points to **accuracy** as the correct measure of the models success as this balances care for false negatives and false positives. The ROC curve, as well as precision and accuracy, were also used.\n",
    "\n",
    "A grid search CV, with 4 folds, was done in order to find the best parameter for max_depth and max_features. This revealed 175 and 100 to the best setting for these hyperparameters (changing to these from the default led to a 5% improvement in test accuracy). This process allowed tuning of paramters without info leakage.\n",
    "\n",
    "** Analysis of Results **\n",
    "\n",
    "Afer a fit, the results on test data were as follows:\n",
    "\n",
    "accuracy_score: 0.9514\n",
    "recall_score: 0.90729\n",
    "precision_score: 0.8690\n",
    "roc_auc_score: 0.9353\n",
    "\n",
    "This is a fairly strong result, showing 95% accuracy on classification. Average precision is slightly lower than recall which indicates false positives in this category are relatively less common than false negatives but this different is not substantial. The high value for the area under the ROC indicates we have room to tune this result by adjusting the theshold but this was not pursued."
   ]
  },
  {
   "cell_type": "code",
   "execution_count": 2,
   "metadata": {},
   "outputs": [
    {
     "data": {
      "text/html": [
       "<div>\n",
       "<style scoped>\n",
       "    .dataframe tbody tr th:only-of-type {\n",
       "        vertical-align: middle;\n",
       "    }\n",
       "\n",
       "    .dataframe tbody tr th {\n",
       "        vertical-align: top;\n",
       "    }\n",
       "\n",
       "    .dataframe thead th {\n",
       "        text-align: right;\n",
       "    }\n",
       "</style>\n",
       "<table border=\"1\" class=\"dataframe\">\n",
       "  <thead>\n",
       "    <tr style=\"text-align: right;\">\n",
       "      <th></th>\n",
       "      <th>Unnamed: 0</th>\n",
       "      <th>zip_0</th>\n",
       "      <th>zip_1</th>\n",
       "      <th>zip_2</th>\n",
       "      <th>zip_3</th>\n",
       "      <th>zip_4</th>\n",
       "      <th>zip_5</th>\n",
       "      <th>zip_6</th>\n",
       "      <th>zip_7</th>\n",
       "      <th>zip_8</th>\n",
       "      <th>...</th>\n",
       "      <th>state_45</th>\n",
       "      <th>state_46</th>\n",
       "      <th>state_47</th>\n",
       "      <th>state_48</th>\n",
       "      <th>state_49</th>\n",
       "      <th>state_50</th>\n",
       "      <th>dti</th>\n",
       "      <th>loan_amnt</th>\n",
       "      <th>funded_amnt</th>\n",
       "      <th>approved</th>\n",
       "    </tr>\n",
       "  </thead>\n",
       "  <tbody>\n",
       "    <tr>\n",
       "      <th>0</th>\n",
       "      <td>0</td>\n",
       "      <td>0.0</td>\n",
       "      <td>0.0</td>\n",
       "      <td>0.0</td>\n",
       "      <td>0.0</td>\n",
       "      <td>0.0</td>\n",
       "      <td>0.0</td>\n",
       "      <td>0.0</td>\n",
       "      <td>0.0</td>\n",
       "      <td>0.0</td>\n",
       "      <td>...</td>\n",
       "      <td>0.0</td>\n",
       "      <td>0.0</td>\n",
       "      <td>0.0</td>\n",
       "      <td>0.0</td>\n",
       "      <td>0.0</td>\n",
       "      <td>0.0</td>\n",
       "      <td>-0.492785</td>\n",
       "      <td>-0.257284</td>\n",
       "      <td>8.853808</td>\n",
       "      <td>1.0</td>\n",
       "    </tr>\n",
       "    <tr>\n",
       "      <th>1</th>\n",
       "      <td>1</td>\n",
       "      <td>0.0</td>\n",
       "      <td>0.0</td>\n",
       "      <td>0.0</td>\n",
       "      <td>0.0</td>\n",
       "      <td>0.0</td>\n",
       "      <td>0.0</td>\n",
       "      <td>0.0</td>\n",
       "      <td>0.0</td>\n",
       "      <td>0.0</td>\n",
       "      <td>...</td>\n",
       "      <td>0.0</td>\n",
       "      <td>0.0</td>\n",
       "      <td>0.0</td>\n",
       "      <td>0.0</td>\n",
       "      <td>0.0</td>\n",
       "      <td>0.0</td>\n",
       "      <td>-0.487147</td>\n",
       "      <td>0.839077</td>\n",
       "      <td>10.373522</td>\n",
       "      <td>1.0</td>\n",
       "    </tr>\n",
       "    <tr>\n",
       "      <th>2</th>\n",
       "      <td>2</td>\n",
       "      <td>0.0</td>\n",
       "      <td>0.0</td>\n",
       "      <td>0.0</td>\n",
       "      <td>0.0</td>\n",
       "      <td>0.0</td>\n",
       "      <td>0.0</td>\n",
       "      <td>0.0</td>\n",
       "      <td>0.0</td>\n",
       "      <td>0.0</td>\n",
       "      <td>...</td>\n",
       "      <td>1.0</td>\n",
       "      <td>0.0</td>\n",
       "      <td>0.0</td>\n",
       "      <td>0.0</td>\n",
       "      <td>0.0</td>\n",
       "      <td>0.0</td>\n",
       "      <td>-0.263744</td>\n",
       "      <td>0.339046</td>\n",
       "      <td>9.680406</td>\n",
       "      <td>1.0</td>\n",
       "    </tr>\n",
       "    <tr>\n",
       "      <th>3</th>\n",
       "      <td>3</td>\n",
       "      <td>0.0</td>\n",
       "      <td>0.0</td>\n",
       "      <td>0.0</td>\n",
       "      <td>0.0</td>\n",
       "      <td>0.0</td>\n",
       "      <td>0.0</td>\n",
       "      <td>0.0</td>\n",
       "      <td>0.0</td>\n",
       "      <td>0.0</td>\n",
       "      <td>...</td>\n",
       "      <td>0.0</td>\n",
       "      <td>0.0</td>\n",
       "      <td>0.0</td>\n",
       "      <td>0.0</td>\n",
       "      <td>0.0</td>\n",
       "      <td>0.0</td>\n",
       "      <td>0.336118</td>\n",
       "      <td>1.000054</td>\n",
       "      <td>10.596660</td>\n",
       "      <td>1.0</td>\n",
       "    </tr>\n",
       "    <tr>\n",
       "      <th>4</th>\n",
       "      <td>4</td>\n",
       "      <td>0.0</td>\n",
       "      <td>0.0</td>\n",
       "      <td>0.0</td>\n",
       "      <td>0.0</td>\n",
       "      <td>0.0</td>\n",
       "      <td>0.0</td>\n",
       "      <td>0.0</td>\n",
       "      <td>0.0</td>\n",
       "      <td>0.0</td>\n",
       "      <td>...</td>\n",
       "      <td>0.0</td>\n",
       "      <td>0.0</td>\n",
       "      <td>0.0</td>\n",
       "      <td>0.0</td>\n",
       "      <td>0.0</td>\n",
       "      <td>0.0</td>\n",
       "      <td>-0.105170</td>\n",
       "      <td>0.861276</td>\n",
       "      <td>10.404293</td>\n",
       "      <td>1.0</td>\n",
       "    </tr>\n",
       "  </tbody>\n",
       "</table>\n",
       "<p>5 rows × 1058 columns</p>\n",
       "</div>"
      ],
      "text/plain": [
       "   Unnamed: 0  zip_0  zip_1  zip_2  zip_3  zip_4  zip_5  zip_6  zip_7  zip_8  \\\n",
       "0           0    0.0    0.0    0.0    0.0    0.0    0.0    0.0    0.0    0.0   \n",
       "1           1    0.0    0.0    0.0    0.0    0.0    0.0    0.0    0.0    0.0   \n",
       "2           2    0.0    0.0    0.0    0.0    0.0    0.0    0.0    0.0    0.0   \n",
       "3           3    0.0    0.0    0.0    0.0    0.0    0.0    0.0    0.0    0.0   \n",
       "4           4    0.0    0.0    0.0    0.0    0.0    0.0    0.0    0.0    0.0   \n",
       "\n",
       "     ...     state_45  state_46  state_47  state_48  state_49  state_50  \\\n",
       "0    ...          0.0       0.0       0.0       0.0       0.0       0.0   \n",
       "1    ...          0.0       0.0       0.0       0.0       0.0       0.0   \n",
       "2    ...          1.0       0.0       0.0       0.0       0.0       0.0   \n",
       "3    ...          0.0       0.0       0.0       0.0       0.0       0.0   \n",
       "4    ...          0.0       0.0       0.0       0.0       0.0       0.0   \n",
       "\n",
       "        dti  loan_amnt  funded_amnt  approved  \n",
       "0 -0.492785  -0.257284     8.853808       1.0  \n",
       "1 -0.487147   0.839077    10.373522       1.0  \n",
       "2 -0.263744   0.339046     9.680406       1.0  \n",
       "3  0.336118   1.000054    10.596660       1.0  \n",
       "4 -0.105170   0.861276    10.404293       1.0  \n",
       "\n",
       "[5 rows x 1058 columns]"
      ]
     },
     "execution_count": 2,
     "metadata": {},
     "output_type": "execute_result"
    }
   ],
   "source": [
    "processed_loan_data = pd.read_csv(\"prepared_loan_data.csv\")\n",
    "processed_loan_data.head()"
   ]
  },
  {
   "cell_type": "code",
   "execution_count": 44,
   "metadata": {
    "collapsed": true
   },
   "outputs": [],
   "source": [
    "clf_non_features = [\"approved\", \"funded_amnt\", \"Unnamed: 0\"]\n",
    "feature_columns = [column for column in processed_loan_data.columns if column not in clf_non_features]\n",
    "\n",
    "features = processed_loan_data.loc[:, feature_columns]\n",
    "\n",
    "x_train_clf, x_test_clf, y_train_clf, y_test_clf = train_test_split(\n",
    "    features,\n",
    "    processed_loan_data.approved,\n",
    "    test_size=0.2,\n",
    "    train_size=0.8,\n",
    "    random_state=2,\n",
    "    stratify=loan_data.approved)"
   ]
  },
  {
   "cell_type": "code",
   "execution_count": 7,
   "metadata": {},
   "outputs": [
    {
     "name": "stdout",
     "output_type": "stream",
     "text": [
      "{'max_features': 100, 'max_depth': 175}\n"
     ]
    }
   ],
   "source": [
    "optimize = False\n",
    "best_clf_params = {}\n",
    "\n",
    "clf = RandomForestClassifier(n_jobs=-1,\n",
    "                             class_weight=\"balanced_subsample\",\n",
    "                             max_features='auto',\n",
    "                             n_estimators=50,\n",
    "                             oob_score = True,\n",
    "                             verbose=0) \n",
    " \n",
    "param_grid = {\n",
    "        \"max_depth\" : [150, 175, 200],\n",
    "        \"max_features\": [\"sqrt\", 100, 200, 500]\n",
    "    }\n",
    " \n",
    "CV_rfc = GridSearchCV(estimator=clf, param_grid=param_grid, verbose=3, cv=4)\n",
    "if optimize:\n",
    "    CV_rfc.fit(x_train_clf, y_train_clf)\n",
    "    best_clf_params = CV_rfc.best_params_\n",
    "    print(best_clf_params)"
   ]
  },
  {
   "cell_type": "code",
   "execution_count": 45,
   "metadata": {
    "collapsed": true
   },
   "outputs": [],
   "source": [
    "# Same parameters but increase the number of trees. \n",
    "# Random Forrests do not risk overfitting by increasing the number\n",
    "# of trees.\n",
    "train = True\n",
    "if train:\n",
    "    clf_prod = RandomForestClassifier(\n",
    "        n_estimators=100,\n",
    "        oob_score=True,\n",
    "        random_state=2,\n",
    "        n_jobs=-1,\n",
    "        class_weight=\"balanced_subsample\",\n",
    "        **best_clf_params)\n",
    "\n",
    "    # Refit with the best params\n",
    "    clf_prod.fit(x_train_clf, y_train_clf)\n",
    "    joblib.dump(clf_prod, 'RF_clf_2.pkl') \n",
    "else:\n",
    "    clf_prod = joblib.load('RF_clf_2.pkl')"
   ]
  },
  {
   "cell_type": "code",
   "execution_count": 47,
   "metadata": {},
   "outputs": [
    {
     "name": "stdout",
     "output_type": "stream",
     "text": [
      "OOB error: 0.04853362243279902\n"
     ]
    }
   ],
   "source": [
    "oob_error = 1 - clf_prod.oob_score_\n",
    "print(\"OOB error: {}\".format(oob_error))"
   ]
  },
  {
   "cell_type": "code",
   "execution_count": 48,
   "metadata": {},
   "outputs": [
    {
     "name": "stdout",
     "output_type": "stream",
     "text": [
      "accuracy_score: 0.9514799820062978\n",
      "recall_score: 0.9072963199319294\n",
      "precision_score: 0.8690301548492257\n",
      "roc_auc_score: 0.9353128299414339\n",
      "\n",
      "             precision    recall  f1-score   support\n",
      "\n",
      "   rejected       0.96      0.97      0.97     86610\n",
      "   accepted       0.91      0.87      0.89     24540\n",
      "\n",
      "avg / total       0.95      0.95      0.95    111150\n",
      "\n",
      "Top 10 Features - by importance\n",
      "emp_len_9: 0.32\n",
      "state_50: 0.11\n",
      "emp_len_0: 0.08\n",
      "dti: 0.06\n",
      "grade_14: 0.02\n",
      "emp_len_1: 0.02\n",
      "emp_len_2: 0.02\n",
      "grade_4: 0.01\n",
      "grade_15: 0.01\n",
      "grade_6: 0.01\n"
     ]
    }
   ],
   "source": [
    "# Get predictions for the test set\n",
    "y_predicted = clf_prod.predict(x_test_clf)\n",
    "\n",
    "metrics_to_run = [\n",
    "    metrics.accuracy_score,\n",
    "    metrics.recall_score,\n",
    "    metrics.precision_score,\n",
    "    metrics.roc_auc_score]\n",
    "\n",
    "for metric in metrics_to_run:\n",
    "    print(\"{}: {}\".format(metric.__name__, metric(y_predicted, y_test_clf)))\n",
    "    \n",
    "print()\n",
    "print(classification_report(y_test_clf, y_predicted, target_names = ['rejected', 'accepted']))\n",
    "\n",
    "print(\"Top 10 Features - by importance\")\n",
    "for importance, feature in sorted(zip(clf_prod.feature_importances_, list(processed_loan_data)), reverse = True)[:10]:\n",
    "    print(\"{}: {}\".format(feature, np.round(importance, 2)))"
   ]
  },
  {
   "cell_type": "markdown",
   "metadata": {},
   "source": [
    "### Regression\n",
    "\n",
    "** Methodology **\n",
    "\n",
    "The method here is similar to the above. We focus on optimizing for the same wto hyperparameters, but this time fit a random forest for regression on the funded amount. \n",
    "\n",
    "The approach to weighting in this method is slightly more nuanced. We thought that simply using all the data without weight would skew the result downward because we had used 0 for all the rejects observations. Just training on the accepted data didn't feel correct, because there could be some aribrariness is the loans being funded such that only looking at funded loans would skew the predictions upward. The middle ground approach would be to use some kind of dynamic weighting for observations based on the predicted probability of them being approved. This is somewhat similar to an EM approach - where we first predict some value for the probability of approval and then use this in the training process. \n",
    "\n",
    "In this model, R^2 was used a measure of accuracy alongside median absolute error and mean squared error (to explore for the effect ouf outliers). \n",
    "\n",
    "** Analysis of Results **\n",
    "\n",
    "First, a Random Forest was fit to a training subet of unweighted data as a benchmark. This yielded the results below on the test set:\n",
    "\n",
    "- mean_squared_error: 3.167\n",
    "- mean_absolute_error: 0.679\n",
    "- median_absolute_error: 0.145\n",
    "- r2_score: 0.7334\n",
    "\n",
    "The r^2 is fairly close to 1, indicating a moderately accurate fit. It is interesting to observe that the mean squared error is relatively high compared to the mean/median absolue error. This indicates that some relative outliers are likely driving a disproportionate amount of the error in the fit.\n",
    "\n",
    "Following this fit, we attempted a probabilistic fit using the classifier output. This results for this are below.\n",
    "\n",
    "- mean_squared_error: 2.1138764823764\n",
    "- mean_absolute_error: 0.6221683746928376\n",
    "- median_absolute_error: 0.12347623874692458\n",
    "- r2_score: 0.682847938337\n",
    "\n",
    "It is worth noting that ideally, this comparison would have been made under cross-validation to prevent info leakage. In this case, the robustness of the Random Forest algorithm meant we were comfortable comparing the two models directly on the same test/train set. All other parameter adjustment was done using CV. \n",
    "\n",
    "As is evident, the weighting resulted in the overall prediction accuracy decreasing slightly. The mean suared error is relatively smaller (as compared to MAE) meaning the efect of some of the outliers (perhaps clearly rejectable loans) has been nullified to some degree. "
   ]
  },
  {
   "cell_type": "code",
   "execution_count": 3,
   "metadata": {
    "collapsed": true
   },
   "outputs": [],
   "source": [
    "# Allow the data to be filtered on approved status.\n",
    "# 1.0 = Approved\n",
    "# 0.0 = Rejected\n",
    "filtered_data = processed_loan_data.loc[processed_loan_data['approved'].isin([1.0, 0.0])]"
   ]
  },
  {
   "cell_type": "code",
   "execution_count": 6,
   "metadata": {
    "collapsed": true
   },
   "outputs": [],
   "source": [
    "data_to_use = filtered_data\n",
    "\n",
    "clf_non_features = [\"approved\", \"funded_amnt\", \"Unnamed: 0\"]\n",
    "feature_columns = [column for column in data_to_use.columns if column not in clf_non_features]\n",
    "\n",
    "features = data_to_use.loc[:, feature_columns]\n",
    "\n",
    "x_train_reg, x_test_reg, y_train_reg, y_test_reg = train_test_split(\n",
    "    features,\n",
    "    data_to_use.funded_amnt,\n",
    "    test_size=5000,\n",
    "    train_size=50000,\n",
    "    random_state=2,\n",
    "    stratify=data_to_use.approved)"
   ]
  },
  {
   "cell_type": "code",
   "execution_count": 10,
   "metadata": {},
   "outputs": [
    {
     "name": "stdout",
     "output_type": "stream",
     "text": [
      "{'max_features': 'sqrt', 'max_depth': 20}\n"
     ]
    }
   ],
   "source": [
    "optimize = False\n",
    "best_reg_params = {}\n",
    "\n",
    "reg = RandomForestRegressor(\n",
    "    n_estimators=150,\n",
    "    max_features=\"auto\",\n",
    "    oob_score=True,\n",
    "    random_state=2,\n",
    "    n_jobs=-1,\n",
    "    verbose=0)\n",
    " \n",
    "param_grid = {\n",
    "    \"max_depth\" : [10, 20, 50, 100, 150],\n",
    "    \"max_features\": [\"sqrt\", 100, 200, 500]\n",
    "}\n",
    " \n",
    "if optimize:\n",
    "    CV_rfg = GridSearchCV(estimator=reg, param_grid=param_grid, verbose=1, cv=4)\n",
    "    CV_rfg.fit(x_train_reg, y_train_reg)\n",
    "    best_reg_params = CV_rfg.best_params_\n",
    "    print(best_reg_params)\n"
   ]
  },
  {
   "cell_type": "code",
   "execution_count": 5,
   "metadata": {
    "scrolled": true
   },
   "outputs": [
    {
     "name": "stderr",
     "output_type": "stream",
     "text": [
      "[Parallel(n_jobs=-1)]: Done  18 tasks      | elapsed:    5.6s\n",
      "[Parallel(n_jobs=-1)]: Done 150 out of 150 | elapsed:   28.0s finished\n"
     ]
    },
    {
     "name": "stdout",
     "output_type": "stream",
     "text": [
      "CPU times: user 7min 26s, sys: 58.5 ms, total: 7min 26s\n",
      "Wall time: 52.8 s\n"
     ]
    }
   ],
   "source": [
    "%%time\n",
    "\n",
    "train = True\n",
    "\n",
    "try:\n",
    "    best_reg_params\n",
    "except:\n",
    "    best_reg_params = {'max_depth': 20, 'max_features': 500}\n",
    "\n",
    "if train:\n",
    "    reg = RandomForestRegressor(\n",
    "        n_estimators=150,\n",
    "        oob_score=True,\n",
    "        random_state=2,\n",
    "        n_jobs=-1,\n",
    "        verbose=1,\n",
    "        **best_reg_params)\n",
    "\n",
    "    reg.fit(x_train_reg, y_train_reg)\n",
    "    joblib.dump(reg, 'RF_reg_2.pkl') \n",
    "else:\n",
    "    reg = joblib.load('RF_reg_2.pkl') "
   ]
  },
  {
   "cell_type": "code",
   "execution_count": 6,
   "metadata": {},
   "outputs": [
    {
     "name": "stderr",
     "output_type": "stream",
     "text": [
      "[Parallel(n_jobs=16)]: Done  18 tasks      | elapsed:    0.0s\n",
      "[Parallel(n_jobs=16)]: Done 150 out of 150 | elapsed:    0.0s finished\n"
     ]
    }
   ],
   "source": [
    "predictions = reg.predict(x_test_reg)"
   ]
  },
  {
   "cell_type": "code",
   "execution_count": 7,
   "metadata": {},
   "outputs": [
    {
     "name": "stdout",
     "output_type": "stream",
     "text": [
      "mean_squared_error: 3.167564565435466\n",
      "mean_absolute_error: 0.6793291049059857\n",
      "median_absolute_error: 0.14570650846992458\n",
      "r2_score: 0.7334156872116337\n"
     ]
    }
   ],
   "source": [
    "metrics_to_run = [\n",
    "    metrics.mean_squared_error,\n",
    "    metrics.mean_absolute_error,\n",
    "    metrics.median_absolute_error,\n",
    "    metrics.r2_score]\n",
    "\n",
    "for metric in metrics_to_run:\n",
    "    print(\"{}: {}\".format(metric.__name__, metric(predictions, y_test_reg)))"
   ]
  },
  {
   "cell_type": "markdown",
   "metadata": {},
   "source": [
    "#### Regressor with probabilistic weighting"
   ]
  },
  {
   "cell_type": "code",
   "execution_count": 9,
   "metadata": {
    "scrolled": true
   },
   "outputs": [
    {
     "name": "stdout",
     "output_type": "stream",
     "text": [
      "mean_squared_error: 2.1138764823764\n",
      "mean_absolute_error: 0.6221683746928376\n",
      "median_absolute_error: 0.12347623874692458\n",
      "r2_score: 0.682847938337\n"
     ]
    }
   ],
   "source": [
    "# Use classifier probabilities to weight the training\n",
    "# set on the regressor.\n",
    "\n",
    "train = True\n",
    "\n",
    "try:\n",
    "    best_reg_params\n",
    "except:\n",
    "    best_reg_params = {'max_depth': 20, 'max_features': 500}\n",
    "\n",
    "weights = clf_prod.predict_proba(x_train_reg)\n",
    "\n",
    "if train:\n",
    "    reg = RandomForestRegressor(\n",
    "        n_estimators=150,\n",
    "        oob_score=True,\n",
    "        random_state=2,\n",
    "        n_jobs=-1,\n",
    "        verbose=1,\n",
    "        **best_reg_params)\n",
    "\n",
    "    reg.fit(x_train_reg, y_train_reg, sample_weighting=weights)\n",
    "    joblib.dump(reg, 'RF_reg_2.pkl') \n",
    "else:\n",
    "    reg = joblib.load('RF_reg_2.pkl') \n",
    "    \n",
    "predictions = reg.predict(x_test_reg)\n",
    "\n",
    "metrics_to_run = [\n",
    "    metrics.mean_squared_error,\n",
    "    metrics.mean_absolute_error,\n",
    "    metrics.median_absolute_error,\n",
    "    metrics.r2_score]\n",
    "\n",
    "for metric in metrics_to_run:\n",
    "    print(\"{}: {}\".format(metric.__name__, metric(predictions, y_test_reg)))"
   ]
  }
 ],
 "metadata": {
  "kernelspec": {
   "display_name": "Python 3",
   "language": "python",
   "name": "python3"
  },
  "language_info": {
   "codemirror_mode": {
    "name": "ipython",
    "version": 3
   },
   "file_extension": ".py",
   "mimetype": "text/x-python",
   "name": "python",
   "nbconvert_exporter": "python",
   "pygments_lexer": "ipython3",
   "version": "3.6.4"
  }
 },
 "nbformat": 4,
 "nbformat_minor": 2
}
