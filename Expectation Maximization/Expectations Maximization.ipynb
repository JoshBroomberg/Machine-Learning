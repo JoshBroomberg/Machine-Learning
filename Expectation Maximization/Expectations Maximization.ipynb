{
 "cells": [
  {
   "cell_type": "code",
   "execution_count": null,
   "metadata": {},
   "outputs": [],
   "source": [
    "import pandas as pd\n",
    "import numpy as np\n",
    "from sklearn.neighbors.kde import KernelDensity\n",
    "import matplotlib.pyplot as plt\n",
    "\n",
    "parse_date = lambda str_data: str_data[2:]\n",
    "data = pd.read_csv(\"anonymized.csv\", converters={0: parse_date})\n",
    "data.head()\n",
    "\n",
    "counts = data[\"Date\"].value_counts()\n",
    "processed_counts = np.array(counts).reshape(-1, 1)\n",
    "print(counts[:5])\n",
    "print(processed_counts[:5])\n",
    "\n",
    "kde = KernelDensity(kernel='gaussian', bandwidth=4).fit(processed_counts)\n",
    "\n",
    "plt_range = np.linspace(0, 110, 300).reshape(-1, 1)\n",
    "density_samples = kde.score_samples(plt_range)\n",
    "plt.fill(plt_range[:, 0], np.exp(density_samples), fc='#AAAAFF')\n",
    "\n",
    "n_samples = 50\n",
    "samples = kde.sample(n_samples, random_state=1)\n",
    "print(samples[1:10, 0])\n",
    "plt.scatter(samples[:, 0], [1]*n_samples, c='red')\n",
    "plt.scatter(processed_counts[:, 0], [0]*processed_counts.shape[0], c='blue')\n",
    "plt.show()"
   ]
  },
  {
   "cell_type": "code",
   "execution_count": 41,
   "metadata": {},
   "outputs": [],
   "source": [
    "import pandas as pd\n",
    "import numpy as np\n",
    "from sklearn.neighbors.kde import KernelDensity\n",
    "import matplotlib.pyplot as plt"
   ]
  },
  {
   "cell_type": "code",
   "execution_count": 20,
   "metadata": {},
   "outputs": [
    {
     "data": {
      "text/html": [
       "<div>\n",
       "<style scoped>\n",
       "    .dataframe tbody tr th:only-of-type {\n",
       "        vertical-align: middle;\n",
       "    }\n",
       "\n",
       "    .dataframe tbody tr th {\n",
       "        vertical-align: top;\n",
       "    }\n",
       "\n",
       "    .dataframe thead th {\n",
       "        text-align: right;\n",
       "    }\n",
       "</style>\n",
       "<table border=\"1\" class=\"dataframe\">\n",
       "  <thead>\n",
       "    <tr style=\"text-align: right;\">\n",
       "      <th></th>\n",
       "      <th>Date</th>\n",
       "      <th>Amount</th>\n",
       "    </tr>\n",
       "  </thead>\n",
       "  <tbody>\n",
       "    <tr>\n",
       "      <th>0</th>\n",
       "      <td>May2016</td>\n",
       "      <td>54241.35</td>\n",
       "    </tr>\n",
       "    <tr>\n",
       "      <th>1</th>\n",
       "      <td>May2017</td>\n",
       "      <td>54008.83</td>\n",
       "    </tr>\n",
       "    <tr>\n",
       "      <th>2</th>\n",
       "      <td>Jun2017</td>\n",
       "      <td>54008.82</td>\n",
       "    </tr>\n",
       "    <tr>\n",
       "      <th>3</th>\n",
       "      <td>Jan2017</td>\n",
       "      <td>52704.37</td>\n",
       "    </tr>\n",
       "    <tr>\n",
       "      <th>4</th>\n",
       "      <td>Feb2017</td>\n",
       "      <td>52704.36</td>\n",
       "    </tr>\n",
       "  </tbody>\n",
       "</table>\n",
       "</div>"
      ],
      "text/plain": [
       "      Date    Amount\n",
       "0  May2016  54241.35\n",
       "1  May2017  54008.83\n",
       "2  Jun2017  54008.82\n",
       "3  Jan2017  52704.37\n",
       "4  Feb2017  52704.36"
      ]
     },
     "execution_count": 20,
     "metadata": {},
     "output_type": "execute_result"
    }
   ],
   "source": [
    "parse_date = lambda str_data: str_data[2:]\n",
    "data = pd.read_csv(\"anonymized.csv\", converters={0: parse_date})\n",
    "data.head()"
   ]
  },
  {
   "cell_type": "code",
   "execution_count": 158,
   "metadata": {},
   "outputs": [
    {
     "name": "stdout",
     "output_type": "stream",
     "text": [
      "Dec2014    106\n",
      "Jan2015     96\n",
      "Mar2017     88\n",
      "Nov2016     86\n",
      "Apr2017     78\n",
      "Name: Date, dtype: int64\n"
     ]
    },
    {
     "data": {
      "text/plain": [
       "array([[106],\n",
       "       [ 96],\n",
       "       [ 88],\n",
       "       [ 86],\n",
       "       [ 78],\n",
       "       [ 75],\n",
       "       [ 73],\n",
       "       [ 73],\n",
       "       [ 68],\n",
       "       [ 64],\n",
       "       [ 64],\n",
       "       [ 64],\n",
       "       [ 62],\n",
       "       [ 61],\n",
       "       [ 59],\n",
       "       [ 59],\n",
       "       [ 59],\n",
       "       [ 58],\n",
       "       [ 57],\n",
       "       [ 55],\n",
       "       [ 54],\n",
       "       [ 53],\n",
       "       [ 52],\n",
       "       [ 52],\n",
       "       [ 51],\n",
       "       [ 48],\n",
       "       [ 48],\n",
       "       [ 47],\n",
       "       [ 45],\n",
       "       [ 45],\n",
       "       [ 44],\n",
       "       [ 44],\n",
       "       [ 43],\n",
       "       [ 41],\n",
       "       [ 40],\n",
       "       [ 40],\n",
       "       [ 39],\n",
       "       [ 38],\n",
       "       [ 38],\n",
       "       [ 36],\n",
       "       [ 34],\n",
       "       [ 33],\n",
       "       [ 32],\n",
       "       [ 32],\n",
       "       [ 27],\n",
       "       [ 23],\n",
       "       [ 16],\n",
       "       [ 10],\n",
       "       [  8]])"
      ]
     },
     "execution_count": 158,
     "metadata": {},
     "output_type": "execute_result"
    }
   ],
   "source": [
    "counts = data[\"Date\"].value_counts()\n",
    "processed_counts = np.array(counts).reshape(-1, 1)\n",
    "print(counts[:5])\n",
    "processed_counts"
   ]
  },
  {
   "cell_type": "code",
   "execution_count": 70,
   "metadata": {},
   "outputs": [],
   "source": [
    "kde = KernelDensity(kernel='gaussian', bandwidth=4).fit(processed_counts)"
   ]
  },
  {
   "cell_type": "code",
   "execution_count": 77,
   "metadata": {},
   "outputs": [
    {
     "data": {
      "text/plain": [
       "[<matplotlib.patches.Polygon at 0x110d69080>]"
      ]
     },
     "execution_count": 77,
     "metadata": {},
     "output_type": "execute_result"
    },
    {
     "data": {
      "image/png": "[encoded data removed]",
      "text/plain": [
       "<matplotlib.figure.Figure at 0x110cb10b8>"
      ]
     },
     "metadata": {},
     "output_type": "display_data"
    }
   ],
   "source": [
    "plt_range = np.linspace(0, 110, 300).reshape(-1, 1)\n",
    "density_samples = kde.score_samples(plt_range)\n",
    "plt.fill(plt_range[:, 0], np.exp(density_samples), fc='#AAAAFF')"
   ]
  },
  {
   "cell_type": "code",
   "execution_count": 92,
   "metadata": {},
   "outputs": [
    {
     "name": "stdout",
     "output_type": "stream",
     "text": [
      "[ 34.33126085  57.59752329  72.57889484  67.60636288  66.00997736\n",
      "  78.6034238   56.26508856 105.5084391   55.25692226]\n"
     ]
    },
    {
     "data": {
      "image/png": "[encoded data removed]",
      "text/plain": [
       "<matplotlib.figure.Figure at 0x11141def0>"
      ]
     },
     "metadata": {},
     "output_type": "display_data"
    }
   ],
   "source": [
    "n_samples = 50\n",
    "samples = kde.sample(n_samples, random_state=1)\n",
    "print(samples[1:10, 0])\n",
    "plt.scatter(samples[:, 0], [1]*n_samples, c='red')\n",
    "plt.scatter(processed_counts[:, 0], [0]*processed_counts.shape[0], c='blue')\n",
    "plt.show()"
   ]
  },
  {
   "cell_type": "markdown",
   "metadata": {},
   "source": [
    "### Expectation-Maximization\n"
   ]
  },
  {
   "cell_type": "code",
   "execution_count": 128,
   "metadata": {},
   "outputs": [
    {
     "name": "stdout",
     "output_type": "stream",
     "text": [
      "[0 1 0 1 1 0 1 0 1 1 0 1 1 0 3 0 0 2 2 0 2 3 2 0 2 2 3 1 1 0 3 2 3 3 0 1 0\n",
      " 1 2 2 2 1 3 1 0 1 1 1 1 0 1 0 3 2 2 3 2 2 1 1 3 2 3 1 3 3 3 3 2 1 0 3 0 3\n",
      " 3 3 1 2 0 2 0 1 1 1 1 2 0 0 1 3 2 0 0 3 0 2 3 0 1 3 0 1 0 1 3 1 0 1 2 0 1\n",
      " 0 3 0 3 0 2 1 3 2 0 0 0 3 2 1 2 2 1 0 3 0 1 3 0 3 2 0 0 0 1 0 0 1 0 2 3 0\n",
      " 0 0 1 1 0 0 0 3 1 2 3 1 1 3 1 1 1 3 1 2 0 0 0 0 0 0 3 1 1 2 0 3 3 0 2 0 1\n",
      " 3 0 0 0 2 0 0 3 3 2 0 2 0 2 0 1 0 0 1 3 0 0 3 1 1 1 1 3 1 0 3 0 0 2 2 1 0\n",
      " 1 0 1 0 1 0 3 0 0 2 3 0 1 0 1 1 2 0 3 2 1 0 1 0 1 1 1 0 0 0 0 0 0 0 1 1 1\n",
      " 0 3 1 3 2 0 1 0 1 3 1 0 0 0 3 1 0 3 0 0 3 0 3 1 1 0 1 1 2 1 1 0 0 1 1 1 2\n",
      " 1 1 1 3 2 2 0 0 0 0 2 1 0 1 3 3 3 2 1 2 2 0 0 3 0 3 0 0 3 2 0 2 2 1 0 1 1\n",
      " 3 3 1 1 3 1 3 0 0 3 0 3 1 2 0 1 0 0 0 0 3 2 0 2 1 0 0 1 1 2 0 1 0 1 0 1 0\n",
      " 0 3 1 0 1 3 0 0 0 0 0 0 1 1 2 0 2 0 0 1 1 0 1 1 1 0 2 0 2 1 3 0 0 2 3 3 2\n",
      " 0 2 0 1 0 0 2 2 0 0 1 0 0 2 2 1 1 3 0 1 0 2 0 2 0 0 0 0 3 3 2 0 0 3 1 3 2\n",
      " 2 0 1 3 0 0 0 0 0 1 0 0 1 0 0 0 0 0 1 0 2 1 3 0 2 3 2 2 0 1 0 1 0 0 0 1 1\n",
      " 3 0 0 0 1 0 2 1 1 3 1 1 3 1 0 2 2 0 3 0 0 0 0 0 0 2 3 1 3 1 3 0 1 3 1 2 1\n",
      " 0 2 1 0 0 1 3 1 1 0 1 1 2 1 0 0 0 0 3 2 1 1 1 0 3 0 0 1 0 0 1 3 3 1 1 0 2\n",
      " 1 0 2 3 0 2 2 3 1 3 0 0 0 0 2 2 1 3 1 1 0 1 1 2 0 1 0 0 1 2 1 0 2 0 1 2 1\n",
      " 0 0 3 0 0 0 1 1 0 0 2 2 1 1 2 2 3 2 3 3 0 3 1 1 2 1 1 3 0 3 2 0 1 0 1 0 3\n",
      " 0 0 3 1 1 0 1 1 0 3 1 0 2 1 1 2 1 0 3 1 0 1 0 1 1 0 1 3 2 0 2 0 1 3 3 1 1\n",
      " 0 2 0 3 3 0 1 0 0 1 2 1 0 1 3 1 3 0 1 2 1 3 0 1 0 0 2 1 0 1 0 0 1 1 1 1 0\n",
      " 0 3 0 3 2 0 1 1 0 1 1 1 3 0 0 1 0 0 3 2 3 3 0 1 1 2 2 1 0 0 2 3 1 1 1 1 2\n",
      " 0 0 2 2 0 0 1 3 1 0 1 3 0 0 0 2 1 0 2 2 0 0 0 3 1 1 2 2 3 1 2 0 0 1 0 0 1\n",
      " 1 1 0 1 2 3 2 1 3 1 0 2 2 1 0 1 0 0 1 1 2 1 0 2 1 0 1 0 3 1 1 2 1 2 0 0 0\n",
      " 3 1 3 2 3 2 0 0 2 0 3 3 1 0 1 0 3 1 0 0 1 0 0 1 1 3 0 3 0 0 1 0 0 2 0 0 1\n",
      " 3 0 1 3 2 2 3 0 2 3 1 0 1 3 0 3 1 2 2 2 1 3 1 0 0 0 0 1 1 2 0 2 0 1 0 0 1\n",
      " 3 1 0 0 3 0 0 0 0 0 1 0 0 1 0 1 1 0 3 2 1 3 0 1 0 2 0 0 2 0 1 1 1 3 0 1 0\n",
      " 1 1 0 2 3 3 0 2 3 2 3 2 0 0 0 3 1 0 0 3 3 3 0 1 2 0 0 1 1 1 3 0 0 2 1 3 2\n",
      " 1 2 0 3 0 0 0 3 1 1 1 3 1 1 0 0 1 1 1 1 0 0 0 1 3 0 1 2 1 2 3 2 0 1 1 0 3\n",
      " 0]\n"
     ]
    }
   ],
   "source": [
    "true_p_cluster = [0.4, 0.3, 0.15, 0.15]\n",
    "\n",
    "n_questions = 20\n",
    "n_people = 1000\n",
    "n_clusters = len(true_p_cluster)\n",
    "\n",
    "true_biases = np.random.beta(0.75, 0.75, size=(n_questions, n_clusters))\n",
    "true_people = np.random.choice(range(n_clusters), size=n_people, p=true_p_cluster)\n",
    "\n",
    "answers = np.zeros((n_people, n_questions), dtype=bool)\n",
    "\n",
    "for a in range(n_people):\n",
    "    cluster = true_people[a]\n",
    "    answers[a, :] = np.random.rand(n_questions) < true_biases[:, cluster]\n",
    "\n",
    "print(true_people)\n",
    "\n",
    "np.savetxt(\"questionnaire.csv\", answers, delimiter=\",\", fmt=\"%d\")\n",
    "np.savetxt(\"questionnaire_answers.csv\", true_people, delimiter=\",\", fmt=\"%d\")\n",
    "np.savetxt(\"questionnaire_biases.csv\", true_biases, delimiter=\",\", fmt=\"%.3f\")"
   ]
  },
  {
   "cell_type": "code",
   "execution_count": 156,
   "metadata": {},
   "outputs": [
    {
     "name": "stdout",
     "output_type": "stream",
     "text": [
      "[0.4  0.3  0.15 0.15]\n",
      "[0.30231769 0.15791713 0.37348663 0.16627856]\n",
      "\n",
      "[[7.66551213e-01 5.07010441e-01 2.60175276e-01 6.67677134e-01]\n",
      " [7.35677595e-01 8.85702873e-01 2.01431121e-01 8.44920525e-01]\n",
      " [5.68087992e-01 1.00000000e+00 4.90662786e-01 5.04175261e-04]\n",
      " [3.73421760e-01 3.19636036e-01 4.51368156e-01 3.19055103e-01]\n",
      " [8.35590741e-01 8.03055043e-01 2.56233846e-02 4.22433841e-17]\n",
      " [3.61046536e-01 5.41412992e-01 3.35879763e-01 5.46698641e-01]\n",
      " [8.33890603e-01 2.51617147e-01 9.30227456e-02 3.21284435e-01]\n",
      " [6.99211832e-01 4.47834388e-01 6.09549462e-01 4.22403250e-01]\n",
      " [8.95028350e-02 5.54042014e-01 1.91521549e-01 9.67763079e-01]\n",
      " [3.28193445e-02 4.42671453e-01 7.88827555e-01 6.34849404e-02]\n",
      " [1.20322529e-01 3.59498304e-01 3.69899883e-01 1.48550555e-01]\n",
      " [2.12777441e-01 3.31634791e-01 1.93717051e-01 3.24468018e-01]\n",
      " [2.38795979e-01 3.00824309e-01 3.59454912e-01 2.64921941e-01]\n",
      " [1.03503910e-01 1.35219634e-01 7.74972023e-01 9.91792078e-01]\n",
      " [6.39705101e-01 8.82701197e-01 4.55813778e-01 7.93679269e-01]\n",
      " [7.94791570e-01 8.81487236e-01 9.42984404e-01 9.64204021e-01]\n",
      " [8.83396183e-01 1.87353951e-01 5.44955511e-01 7.86714284e-01]\n",
      " [9.66236061e-01 4.33477809e-01 7.03560523e-01 1.72395838e-01]\n",
      " [4.61213580e-02 8.18448752e-01 9.14667725e-01 2.77807663e-01]\n",
      " [1.75217268e-01 6.02438312e-01 9.97665804e-01 1.00000000e+00]]\n",
      "\n",
      "[[2.11992927e-04 3.52566169e-16 9.99741767e-01 4.62396653e-05]\n",
      " [9.97286091e-01 2.71352797e-03 3.81251058e-07 3.77409468e-37]\n",
      " [1.56853333e-05 2.16005927e-03 9.97823597e-01 6.57998606e-07]\n",
      " ...\n",
      " [5.34068821e-07 4.73557542e-05 9.99952072e-01 3.81025766e-08]\n",
      " [4.13491584e-05 1.05091516e-18 6.60616616e-04 9.99298034e-01]\n",
      " [4.26362296e-08 1.15947321e-18 9.99607336e-01 3.92621394e-04]]\n"
     ]
    }
   ],
   "source": [
    "answers = np.loadtxt(\"questionnaire.csv\", delimiter=\",\")\n",
    "n_people, n_questions = answers.shape\n",
    "n_clusters = 4\n",
    "\n",
    "p_clusters = np.asarray([0.40, 0.40, 0.10, 0.10])\n",
    "biases = np.random.beta(0.75, 0.75, size=(n_questions, n_clusters))\n",
    "\n",
    "def expectation(answers, biases, p_clusters):\n",
    "    # In this function we create our expectations.\n",
    "\n",
    "    # This is probably not the correct answer!\n",
    "    people = np.zeros((n_people, n_clusters))\n",
    "    \n",
    "    for person_index in range(n_people):\n",
    "        person_answer = answers[person_index]\n",
    "    \n",
    "        for cluster_index in range(n_clusters):\n",
    "            \n",
    "            p_cluster_given_answer = p_clusters[cluster_index] # set the prior\n",
    "            for i, question_answer in enumerate(person_answer):\n",
    "                \n",
    "                # Conjuction of the probabiility of observing each answer\n",
    "                p_cluster_given_answer *= (question_answer*biases[i, cluster_index] +\\\n",
    "                                          (1-question_answer)*(1-biases[i, cluster_index]))\n",
    "                \n",
    "            \n",
    "            people[person_index, cluster_index] = p_cluster_given_answer\n",
    "            \n",
    "            \n",
    "\n",
    "    # normalize the distributions to accoun\n",
    "    # for the proportionality\n",
    "    people = people / people.sum(axis=1, keepdims=1)\n",
    "    return people\n",
    "\n",
    "def maximization(answers, people, biases, p_clusters):\n",
    "    # Treating all the data as visible, now infer the parameters for the model.\n",
    "    \n",
    "    # Maximize biases likelihood\n",
    "    # the probability of a yes answer to a specific question given the clutser\n",
    "    for question_index in range(n_questions):\n",
    "        for cluster_index in range(n_clusters):\n",
    "            \n",
    "            weighted_numerator = 0\n",
    "            weighted_denominator = 0\n",
    "            \n",
    "            for person_index in range(n_people):\n",
    "                answer = answers[person_index, question_index]\n",
    "                weighted_answer = 1*people[person_index, cluster_index]\n",
    "                \n",
    "                weighted_numerator += answer * weighted_answer\n",
    "                weighted_denominator += weighted_answer\n",
    "            \n",
    "            biases[question_index, cluster_index] = float(weighted_numerator)/weighted_denominator\n",
    "    \n",
    "    # Maximize cluster priors\n",
    "    unnormalized_membership_mass = np.zeros(4)\n",
    "    \n",
    "    for cluster_index in range(n_clusters):\n",
    "        for person_index in range(n_people):\n",
    "            unnormalized_membership_mass[cluster_index] += people[person_index, cluster_index]\n",
    "        \n",
    "    p_clusters = unnormalized_membership_mass/np.sum(unnormalized_membership_mass)  \n",
    "    \n",
    "    return biases, p_clusters\n",
    "\n",
    "\n",
    "for step in range(20):\n",
    "    people = expectation(answers, biases, p_clusters)\n",
    "    biases, p_clusters = maximization(answers, people, biases, p_clusters)\n",
    "\n",
    "print(true_p_cluster)\n",
    "print(p_clusters)\n",
    "print()\n",
    "print(biases)\n",
    "print()\n",
    "print(people)"
   ]
  },
  {
   "cell_type": "code",
   "execution_count": 155,
   "metadata": {},
   "outputs": [
    {
     "name": "stdout",
     "output_type": "stream",
     "text": [
      "Accuracy:  0.968\n"
     ]
    }
   ],
   "source": [
    "probabilistic_assignment = np.argmax(people, axis=1)\n",
    "\n",
    "assigned_p = p_clusters[probabilistic_assignment]\n",
    "\n",
    "true_p_cluster = np.array(true_p_cluster)\n",
    "true_p = true_p_cluster[true_people.astype(int)]\n",
    "\n",
    "scores = np.unique(np.abs(assigned_p - true_p) > 0.05, return_counts=True)[1]\n",
    "print(\"Accuracy: \", scores[0]/np.sum(scores))"
   ]
  }
 ],
 "metadata": {
  "kernelspec": {
   "display_name": "Python 3",
   "language": "python",
   "name": "python3"
  },
  "language_info": {
   "codemirror_mode": {
    "name": "ipython",
    "version": 3
   },
   "file_extension": ".py",
   "mimetype": "text/x-python",
   "name": "python",
   "nbconvert_exporter": "python",
   "pygments_lexer": "ipython3",
   "version": "3.6.4"
  },
  "varInspector": {
   "cols": {
    "lenName": 16,
    "lenType": 16,
    "lenVar": 40
   },
   "kernels_config": {
    "python": {
     "delete_cmd_postfix": "",
     "delete_cmd_prefix": "del ",
     "library": "var_list.py",
     "varRefreshCmd": "print(var_dic_list())"
    },
    "r": {
     "delete_cmd_postfix": ") ",
     "delete_cmd_prefix": "rm(",
     "library": "var_list.r",
     "varRefreshCmd": "cat(var_dic_list()) "
    }
   },
   "types_to_exclude": [
    "module",
    "function",
    "builtin_function_or_method",
    "instance",
    "_Feature"
   ],
   "window_display": false
  }
 },
 "nbformat": 4,
 "nbformat_minor": 2
}
