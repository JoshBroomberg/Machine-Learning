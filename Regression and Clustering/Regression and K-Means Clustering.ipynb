{
 "cells": [
  {
   "cell_type": "markdown",
   "metadata": {},
   "source": [
    "## Josh Broomberg\n",
    "## Assignment 1"
   ]
  },
  {
   "cell_type": "markdown",
   "metadata": {},
   "source": [
    "### Question 1: Linear Regression to Validate Moore's Law\n",
    "\n",
    "Below, a straight forward linear regression is applied to a CPU benchmark dataset in order to validate Moore's law. Regessing performence onto time, the models shows a coefficient of 1.66 on year. Parameter accuracy aside, this value implies Moore's law is pretty much accurate because it indicates performence close to doubles each year. In order to know whether this is accurate, we can consider two methods. First, in 'applied' machine learning, we would consider the accuracy of this predictor on unseen data. The predictor as an $r^2$ of $0.72$, which means it explains a large portion of the variance of performence across time. Second, we could consider the statistical significance of the parameter. Using the statesmodel package, we can see that the year variable has a p value of $5.542018 \\times 10^{-143}$ on the hypothesis test with that its value is 0. This is strong evidence that year is a predictor performence. The 95% confidence interval around the value has lower bound 1.61 and upper bound 1.7. So,we can be fairly sure that Moore's law holds. "
   ]
  },
  {
   "cell_type": "code",
   "execution_count": 48,
   "metadata": {},
   "outputs": [],
   "source": [
    "import numpy as np\n",
    "import pandas as pd\n",
    "import matplotlib.pyplot as plt\n",
    "from datetime import datetime\n",
    "\n",
    "from sklearn import datasets, linear_model, neighbors\n",
    "from sklearn import metrics\n",
    "from sklearn.cross_validation import train_test_split\n",
    "\n",
    "from scipy import stats\n",
    "from sklearn.model_selection import cross_validate\n",
    "import statsmodels.formula.api as smf"
   ]
  },
  {
   "cell_type": "code",
   "execution_count": 49,
   "metadata": {},
   "outputs": [
    {
     "data": {
      "text/html": [
       "<div>\n",
       "<style scoped>\n",
       "    .dataframe tbody tr th:only-of-type {\n",
       "        vertical-align: middle;\n",
       "    }\n",
       "\n",
       "    .dataframe tbody tr th {\n",
       "        vertical-align: top;\n",
       "    }\n",
       "\n",
       "    .dataframe thead th {\n",
       "        text-align: right;\n",
       "    }\n",
       "</style>\n",
       "<table border=\"1\" class=\"dataframe\">\n",
       "  <thead>\n",
       "    <tr style=\"text-align: right;\">\n",
       "      <th></th>\n",
       "      <th>date</th>\n",
       "      <th>name</th>\n",
       "      <th>score</th>\n",
       "    </tr>\n",
       "  </thead>\n",
       "  <tbody>\n",
       "    <tr>\n",
       "      <th>0</th>\n",
       "      <td>915408000</td>\n",
       "      <td>101.tomcatv</td>\n",
       "      <td>19.4</td>\n",
       "    </tr>\n",
       "    <tr>\n",
       "      <th>1</th>\n",
       "      <td>915408000</td>\n",
       "      <td>102.swim</td>\n",
       "      <td>27.2</td>\n",
       "    </tr>\n",
       "    <tr>\n",
       "      <th>2</th>\n",
       "      <td>915408000</td>\n",
       "      <td>103.su2cor</td>\n",
       "      <td>10.1</td>\n",
       "    </tr>\n",
       "    <tr>\n",
       "      <th>3</th>\n",
       "      <td>915408000</td>\n",
       "      <td>104.hydro2d</td>\n",
       "      <td>8.58</td>\n",
       "    </tr>\n",
       "    <tr>\n",
       "      <th>4</th>\n",
       "      <td>915408000</td>\n",
       "      <td>107.mgrid</td>\n",
       "      <td>8.94</td>\n",
       "    </tr>\n",
       "  </tbody>\n",
       "</table>\n",
       "</div>"
      ]
     },
     "execution_count": 49,
     "metadata": {},
     "output_type": "execute_result"
    }
   ],
   "source": [
    "### Read Data\n",
    "\n",
    "# Function to convert variable format\n",
    "# dates into unix time stamps (seconds from epoch)\n",
    "def convert_date(full_date_str):\n",
    "    try:\n",
    "        date_str = full_date_str.split(\"-\")[1]\n",
    "        if len(date_str) == 8:\n",
    "            format_str = \"%Y%m%d\"\n",
    "        else:\n",
    "            format_str = \"%y%m%d\"\n",
    "            \n",
    "        return int(datetime.strptime(date_str, format_str).strftime(\"%s\"))\n",
    "    except:\n",
    "        # Return flag for rows to be removed later.\n",
    "        return 0\n",
    "    \n",
    "# Read CSV\n",
    "benchmarks = np.loadtxt(\"benchmarks.txt\",\n",
    "    delimiter=\",\",\n",
    "    dtype='O',\n",
    "    converters={\n",
    "        0: convert_date,\n",
    "        2: lambda str: float(str)},\n",
    "    skiprows=1,\n",
    "    usecols=(0, 1, 2))\n",
    "\n",
    "# Place CSV into Pandas Frame.\n",
    "benchmark_data = pd.DataFrame(benchmarks, columns=[\"date\", \"name\", \"score\"])\n",
    "benchmark_data.head()"
   ]
  },
  {
   "cell_type": "markdown",
   "metadata": {},
   "source": [
    "** Clean and filter data:**"
   ]
  },
  {
   "cell_type": "code",
   "execution_count": 50,
   "metadata": {},
   "outputs": [
    {
     "name": "stdout",
     "output_type": "stream",
     "text": [
      "Num data points: 494\n"
     ]
    },
    {
     "data": {
      "image/png": "[encoded data removed]"
     },
     "execution_count": 50,
     "metadata": {},
     "output_type": "execute_result"
    }
   ],
   "source": [
    "# Remove rows without dates.\n",
    "cleaned_benchmark_data = benchmark_data[benchmark_data.date != 0]\n",
    "\n",
    "# Specify benchmark and filter.\n",
    "selected_benchmark = '130.li'\n",
    "filtered_benchmark_data = cleaned_benchmark_data[cleaned_benchmark_data['name'].str.match(selected_benchmark)]\n",
    "\n",
    "print(\"Num data points: {}\".format(len(filtered_benchmark_data.index)))\n",
    "\n",
    "x_time = filtered_benchmark_data.date\n",
    "filtered_benchmark_data = filtered_benchmark_data.assign(ln_score = lambda x: np.log(x.score.astype(float)))\n",
    "y_score = filtered_benchmark_data.ln_score\n",
    "\n",
    "plt.title(\"Time vs Score\")\n",
    "plt.xlabel(\"Time (seconds since epoch)\")\n",
    "plt.ylabel(\"Score (benchmark score)\")\n",
    "plt.scatter(x_time, y_score)\n",
    "plt.show()"
   ]
  },
  {
   "cell_type": "markdown",
   "metadata": {},
   "source": [
    "** Fit model **"
   ]
  },
  {
   "cell_type": "code",
   "execution_count": 51,
   "metadata": {},
   "outputs": [
    {
     "data": {
      "image/png": "[encoded data removed]"
     },
     "execution_count": 51,
     "metadata": {},
     "output_type": "execute_result"
    },
    {
     "name": "stdout",
     "output_type": "stream",
     "text": [
      "Score multiple per year: 1.65443680518\n"
     ]
    }
   ],
   "source": [
    "# Split data for training and test\n",
    "x_train, x_test, y_train, y_test = train_test_split(x_time, y_score, test_size=0.1, random_state=50)\n",
    "\n",
    "# Fit linear model\n",
    "regr = linear_model.LinearRegression()\n",
    "regr.fit(x_train.values.reshape(-1, 1), y_train)\n",
    "\n",
    "# Run predictions\n",
    "y_predicted_score = regr.predict(x_test.values.reshape(-1, 1))\n",
    "\n",
    "plt.title(\"Time vs Score\")\n",
    "plt.xlabel(\"Time (seconds since epoch)\")\n",
    "plt.ylabel(\"Score (benchmark score)\")\n",
    "plt.scatter(x_time, y_score)\n",
    "plt.plot(x_test, y_predicted_score, color=\"r\")\n",
    "plt.show()\n",
    "\n",
    "# Recover coefficient in the correct units:\n",
    "raw_coeff = regr.coef_[0]\n",
    "coeff = np.exp(raw_coeff*(60*60*24*365))\n",
    "print(\"Score multiple per year: {}\".format(coeff))"
   ]
  },
  {
   "cell_type": "markdown",
   "metadata": {},
   "source": [
    "** Evaluate model **"
   ]
  },
  {
   "cell_type": "code",
   "execution_count": 52,
   "metadata": {},
   "outputs": [
    {
     "name": "stdout",
     "output_type": "stream",
     "text": [
      "mean_squared_error: 0.13114196506\n",
      "mean_absolute_error: 0.297077238208\n",
      "median_absolute_error: 0.253546596866\n",
      "r2_score: 0.720497803354\n"
     ]
    }
   ],
   "source": [
    "metrics_to_run = [metrics.mean_squared_error, metrics.mean_absolute_error, metrics.median_absolute_error, metrics.r2_score]\n",
    "for metric in metrics_to_run: \n",
    "    print(\"{}: {}\".format(metric.__name__, metric(y_predicted_score, y_test)))"
   ]
  },
  {
   "cell_type": "markdown",
   "metadata": {},
   "source": [
    "** Statistical Significance **"
   ]
  },
  {
   "cell_type": "code",
   "execution_count": 69,
   "metadata": {},
   "outputs": [
    {
     "name": "stdout",
     "output_type": "stream",
     "text": [
      "Intercept   -1.174578e+01\n",
      "date         1.595490e-08\n",
      "dtype: float64\n",
      "P values:\n",
      "Intercept    3.464849e-116\n",
      "date         5.542018e-143\n",
      "dtype: float64\n",
      "\n",
      "Confidence intervals:\n",
      "Lower: 1.60997753584\n",
      "Upper: 1.69908015658\n"
     ]
    }
   ],
   "source": [
    "filtered_benchmark_data_2 = filtered_benchmark_data.assign(date = lambda x: pd.to_numeric(x.date, errors='coerce'))\n",
    "lm1 = smf.ols(formula='ln_score ~ date', data=filtered_benchmark_data_2).fit()\n",
    "\n",
    "# print the coefficients\n",
    "print(lm1.params)\n",
    "print(\"P values:\")\n",
    "print(lm1.pvalues)\n",
    "print\n",
    "print(\"Confidence intervals:\")\n",
    "lower = lm1.conf_int()[0][1]\n",
    "print(\"Lower: {}\".format(np.exp(lower*(60*60*24*365))))\n",
    "upper = lm1.conf_int()[1][1]\n",
    "print(\"Upper: {}\".format(np.exp(upper*(60*60*24*365))))\n"
   ]
  },
  {
   "cell_type": "markdown",
   "metadata": {},
   "source": [
    "### Question 2: K-Nearest Neighbours for MNIST\n",
    "\n",
    "Below, a K-nearest Neighbours is applied to the MNIST dataset in order to classify digits. The first step uses cross-validation to determine the best value for the number of neighbours to consider and the weighting (uniform or distance). The second step is to fit a model using these params, and test it on the reserved test set. \n",
    "\n",
    "The code is structured to allow for flexible selection of the classification challenge. The numbers to be classified are supplied at run time. If two digits are supplied, the challenge is binary classification, and F1 scoring is used. If more than 2 digits are supplied, the standard sklearn accuracy score (average between precision and recall) is used.\n",
    "\n",
    "First, a binary classification is attempted for 7 and 9. The best weighting is determing to be uniform, with 6 nearest neighbours considered. "
   ]
  },
  {
   "cell_type": "code",
   "execution_count": 13,
   "metadata": {},
   "outputs": [
    {
     "name": "stdout",
     "output_type": "stream",
     "text": [
      "Weights: uniform\n",
      "Neighbors: 1, score: 0.9935\n",
      "Neighbors: 2, score: 0.99668\n",
      "Neighbors: 3, score: 0.99668\n",
      "Neighbors: 4, score: 0.99668\n",
      "Neighbors: 5, score: 0.99683\n",
      "Neighbors: 6, score: 1.0\n",
      "Neighbors: 7, score: 0.99683\n",
      "Neighbors: 8, score: 0.9935\n",
      "Neighbors: 9, score: 0.99379\n",
      "Neighbors: 10, score: 0.99047\n",
      "Neighbors: 11, score: 0.99088\n",
      "Neighbors: 12, score: 0.99088\n",
      "Neighbors: 13, score: 0.9881\n",
      "Neighbors: 14, score: 0.9881\n",
      "Neighbors: 15, score: 0.98542\n",
      "Neighbors: 16, score: 0.9881\n",
      "\n",
      "Weights: distance\n",
      "Neighbors: 1, score: 0.9935\n",
      "Neighbors: 2, score: 0.9935\n",
      "Neighbors: 3, score: 0.99668\n",
      "Neighbors: 4, score: 0.9935\n",
      "Neighbors: 5, score: 0.99683\n",
      "Neighbors: 6, score: 0.99683\n",
      "Neighbors: 7, score: 0.99683\n",
      "Neighbors: 8, score: 0.9935\n",
      "Neighbors: 9, score: 0.99683\n",
      "Neighbors: 10, score: 0.99047\n",
      "Neighbors: 11, score: 0.99379\n",
      "Neighbors: 12, score: 0.99088\n",
      "Neighbors: 13, score: 0.99088\n",
      "Neighbors: 14, score: 0.99088\n",
      "Neighbors: 15, score: 0.9881\n",
      "Neighbors: 16, score: 0.9881\n",
      "\n"
     ]
    }
   ],
   "source": [
    "def binarize(arr):\n",
    "    return [arr_item == arr[0] for arr_item in arr]\n",
    "\n",
    "def run_mnist_classifier(digits_to_classify):\n",
    "    binary = len(digits_to_classify) == 2\n",
    "    \n",
    "    digits = datasets.load_digits()\n",
    "\n",
    "    # Filter set to contain only 2 digits\n",
    "    conditions_arr = [digits.target == digit for digit in digits_to_classify]\n",
    "    condition = conditions_arr[0]\n",
    "    for condition_arr in conditions_arr:\n",
    "        condition = np.logical_or(condition, condition_arr)\n",
    "    selected_digit_indeces = np.where(condition)\n",
    "\n",
    "    x_features = digits.data[selected_digit_indeces]\n",
    "    \n",
    "    y_label = digits.target[selected_digit_indeces]\n",
    "    if binary:\n",
    "        y_label = binarize(y_label)\n",
    "\n",
    "    # Split to train and test\n",
    "    # Use stratify to ensure proportional sampling of both classes\n",
    "    x_train, x_test, y_train, y_test = train_test_split(x_features, y_label,\n",
    "        test_size=0.15, stratify=y_label, random_state=134)\n",
    "\n",
    "    # Set k neighbours maximum to the sqrt of the number of points\n",
    "    # as suggested by Barber.\n",
    "    max_neighbors = int(np.sqrt(int(len(x_train))))\n",
    "\n",
    "    for weights in ['uniform', 'distance']:\n",
    "        print(\"Weights: {}\".format(weights))\n",
    "        for n_neighbors in range(1, max_neighbors):\n",
    "            # Instantiate classifier with params\n",
    "            # and fit to data\n",
    "            clf = neighbors.KNeighborsClassifier(n_neighbors, weights=weights)\n",
    "\n",
    "            # Run cross validation to check scores.\n",
    "            \n",
    "            # If binary, use F1 scoring, as this is best\n",
    "            # in binary classification context.\n",
    "            scoring = \"accuracy\"\n",
    "            if binary:\n",
    "                scoring = \"f1\"\n",
    "                \n",
    "            cv_scores = cross_validate(clf, X=x_train, y=y_train,\n",
    "                                            cv=7, scoring=scoring)[\"test_score\"]\n",
    "            \n",
    "            print (\"Neighbors: {}, score: {}\".format(n_neighbors, np.round(np.average(cv_scores), 5)))\n",
    "\n",
    "        print\n",
    "    \n",
    "    return x_train, x_test, y_train, y_test, binary\n",
    "\n",
    "x_train, x_test, y_train, y_test, binary = run_mnist_classifier(digits_to_classify=[7, 9])"
   ]
  },
  {
   "cell_type": "markdown",
   "metadata": {},
   "source": [
    "**Fit the binary model**\n",
    "\n",
    "Fir the model with 6 nearest neighbours and uniform weighting. This yields an F1 score of 1.0 on the reserved test data. "
   ]
  },
  {
   "cell_type": "code",
   "execution_count": 16,
   "metadata": {},
   "outputs": [
    {
     "name": "stdout",
     "output_type": "stream",
     "text": [
      "Primary f1_score: 1.0\n",
      "\n",
      "Classification report\n",
      "             precision    recall  f1-score   support\n",
      "\n",
      "      False       1.00      1.00      1.00        27\n",
      "       True       1.00      1.00      1.00        27\n",
      "\n",
      "avg / total       1.00      1.00      1.00        54\n",
      "\n"
     ]
    }
   ],
   "source": [
    "clf = neighbors.KNeighborsClassifier(1, weights=\"uniform\")\n",
    "clf.fit(x_train, y_train)\n",
    "predicted_classes = clf.predict(x_test)\n",
    "\n",
    "if binary:\n",
    "    metrics_to_run = [metrics.f1_score]\n",
    "else:\n",
    "    metrics_to_run = [metrics.accuracy_score]\n",
    "    \n",
    "for metric in metrics_to_run: \n",
    "    print(\"Primary {}: {}\".format(metric.__name__, metric(predicted_classes, y_test)))\n",
    "\n",
    "print\n",
    "print(\"Classification report\")\n",
    "print(metrics.classification_report(y_test, predicted_classes))"
   ]
  },
  {
   "cell_type": "markdown",
   "metadata": {},
   "source": [
    "** Classifying all 10 digits **\n",
    "\n",
    "Next, we use the same code to attempt to classify all 10 digits. Cross-validation shows 3 nearest neighbours with uniform weighting performs the best score. This yields a final accuracy of 0.9925 on the test set. "
   ]
  },
  {
   "cell_type": "code",
   "execution_count": 17,
   "metadata": {},
   "outputs": [
    {
     "name": "stdout",
     "output_type": "stream",
     "text": [
      "Weights: uniform\n",
      "Neighbors: 1, score: 0.98494\n",
      "Neighbors: 2, score: 0.9823\n",
      "Neighbors: 3, score: 0.98817\n",
      "Neighbors: 4, score: 0.98558\n",
      "Neighbors: 5, score: 0.98624\n",
      "Neighbors: 6, score: 0.98099\n",
      "Neighbors: 7, score: 0.981\n",
      "Neighbors: 8, score: 0.98035\n",
      "Neighbors: 9, score: 0.98036\n",
      "Neighbors: 10, score: 0.98168\n",
      "Neighbors: 11, score: 0.98103\n",
      "Neighbors: 12, score: 0.98168\n",
      "Neighbors: 13, score: 0.97902\n",
      "Neighbors: 14, score: 0.97642\n",
      "Neighbors: 15, score: 0.97383\n",
      "Neighbors: 16, score: 0.97517\n",
      "Neighbors: 17, score: 0.97253\n",
      "Neighbors: 18, score: 0.97188\n",
      "Neighbors: 19, score: 0.97055\n",
      "Neighbors: 20, score: 0.96923\n",
      "Neighbors: 21, score: 0.96792\n",
      "Neighbors: 22, score: 0.96727\n",
      "Neighbors: 23, score: 0.96595\n",
      "Neighbors: 24, score: 0.96793\n",
      "Neighbors: 25, score: 0.96597\n",
      "Neighbors: 26, score: 0.96531\n",
      "Neighbors: 27, score: 0.96333\n",
      "Neighbors: 28, score: 0.96335\n",
      "Neighbors: 29, score: 0.96333\n",
      "Neighbors: 30, score: 0.96268\n",
      "Neighbors: 31, score: 0.96267\n",
      "Neighbors: 32, score: 0.95875\n",
      "Neighbors: 33, score: 0.95744\n",
      "Neighbors: 34, score: 0.95746\n",
      "Neighbors: 35, score: 0.95681\n",
      "Neighbors: 36, score: 0.95551\n",
      "Neighbors: 37, score: 0.9542\n",
      "Neighbors: 38, score: 0.95486\n",
      "\n",
      "Weights: distance\n",
      "Neighbors: 1, score: 0.98494\n",
      "Neighbors: 2, score: 0.98494\n",
      "Neighbors: 3, score: 0.98751\n",
      "Neighbors: 4, score: 0.98754\n",
      "Neighbors: 5, score: 0.98625\n",
      "Neighbors: 6, score: 0.98558\n",
      "Neighbors: 7, score: 0.98232\n",
      "Neighbors: 8, score: 0.98102\n",
      "Neighbors: 9, score: 0.98101\n",
      "Neighbors: 10, score: 0.98166\n",
      "Neighbors: 11, score: 0.98103\n",
      "Neighbors: 12, score: 0.98166\n",
      "Neighbors: 13, score: 0.98033\n",
      "Neighbors: 14, score: 0.97967\n",
      "Neighbors: 15, score: 0.98167\n",
      "Neighbors: 16, score: 0.98038\n",
      "Neighbors: 17, score: 0.97909\n",
      "Neighbors: 18, score: 0.97712\n",
      "Neighbors: 19, score: 0.97517\n",
      "Neighbors: 20, score: 0.97318\n",
      "Neighbors: 21, score: 0.97253\n",
      "Neighbors: 22, score: 0.97056\n",
      "Neighbors: 23, score: 0.96924\n",
      "Neighbors: 24, score: 0.9699\n",
      "Neighbors: 25, score: 0.9699\n",
      "Neighbors: 26, score: 0.9699\n",
      "Neighbors: 27, score: 0.96859\n",
      "Neighbors: 28, score: 0.96662\n",
      "Neighbors: 29, score: 0.96727\n",
      "Neighbors: 30, score: 0.96595\n",
      "Neighbors: 31, score: 0.96661\n",
      "Neighbors: 32, score: 0.96463\n",
      "Neighbors: 33, score: 0.96529\n",
      "Neighbors: 34, score: 0.96529\n",
      "Neighbors: 35, score: 0.96267\n",
      "Neighbors: 36, score: 0.9607\n",
      "Neighbors: 37, score: 0.96268\n",
      "Neighbors: 38, score: 0.96137\n",
      "\n"
     ]
    }
   ],
   "source": [
    "x_train, x_test, y_train, y_test, binary = run_mnist_classifier(digits_to_classify=range(0, 10))"
   ]
  },
  {
   "cell_type": "code",
   "execution_count": 18,
   "metadata": {},
   "outputs": [
    {
     "name": "stdout",
     "output_type": "stream",
     "text": [
      "Primary accuracy_score: 0.992592592593\n",
      "\n",
      "Classification report\n",
      "             precision    recall  f1-score   support\n",
      "\n",
      "          0       1.00      1.00      1.00        27\n",
      "          1       1.00      1.00      1.00        27\n",
      "          2       1.00      1.00      1.00        27\n",
      "          3       0.97      1.00      0.98        28\n",
      "          4       1.00      1.00      1.00        27\n",
      "          5       0.96      1.00      0.98        27\n",
      "          6       1.00      1.00      1.00        27\n",
      "          7       1.00      1.00      1.00        27\n",
      "          8       1.00      1.00      1.00        26\n",
      "          9       1.00      0.93      0.96        27\n",
      "\n",
      "avg / total       0.99      0.99      0.99       270\n",
      "\n"
     ]
    }
   ],
   "source": [
    "clf = neighbors.KNeighborsClassifier(1, weights=\"uniform\")\n",
    "clf.fit(x_train, y_train)\n",
    "predicted_classes = clf.predict(x_test)\n",
    "\n",
    "if binary:\n",
    "    metrics_to_run = [metrics.f1_score]\n",
    "else:\n",
    "    metrics_to_run = [metrics.accuracy_score]\n",
    "    \n",
    "for metric in metrics_to_run: \n",
    "    print(\"Primary {}: {}\".format(metric.__name__, metric(predicted_classes, y_test)))\n",
    "    \n",
    "print\n",
    "print(\"Classification report\")\n",
    "print(metrics.classification_report(y_test, predicted_classes))"
   ]
  }
 ],
 "metadata": {
  "kernelspec": {
   "display_name": "Python 3",
   "language": "python",
   "name": "python3"
  },
  "language_info": {
   "codemirror_mode": {
    "name": "ipython",
    "version": 3
   },
   "file_extension": ".py",
   "mimetype": "text/x-python",
   "name": "python",
   "nbconvert_exporter": "python",
   "pygments_lexer": "ipython3",
   "version": "3.6.4"
  },
  "varInspector": {
   "cols": {
    "lenName": 16,
    "lenType": 16,
    "lenVar": 40
   },
   "kernels_config": {
    "python": {
     "delete_cmd_postfix": "",
     "delete_cmd_prefix": "del ",
     "library": "var_list.py",
     "varRefreshCmd": "print(var_dic_list())"
    },
    "r": {
     "delete_cmd_postfix": ") ",
     "delete_cmd_prefix": "rm(",
     "library": "var_list.r",
     "varRefreshCmd": "cat(var_dic_list()) "
    }
   },
   "types_to_exclude": [
    "module",
    "function",
    "builtin_function_or_method",
    "instance",
    "_Feature"
   ],
   "window_display": false
  }
 },
 "nbformat": 4,
 "nbformat_minor": 1
}
