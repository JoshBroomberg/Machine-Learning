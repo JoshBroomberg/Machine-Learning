{
 "cells": [
  {
   "cell_type": "code",
   "execution_count": 1,
   "metadata": {},
   "outputs": [
    {
     "name": "stderr",
     "output_type": "stream",
     "text": [
      "/home/ubuntu/anaconda3/envs/py36.2/lib/python3.6/site-packages/sklearn/cross_validation.py:41: DeprecationWarning: This module was deprecated in version 0.18 in favor of the model_selection module into which all the refactored classes and functions are moved. Also note that the interface of the new CV iterators are different from that of this module. This module will be removed in 0.20.\n",
      "  \"This module will be removed in 0.20.\", DeprecationWarning)\n"
     ]
    }
   ],
   "source": [
    "import numpy as np\n",
    "import matplotlib.pyplot as plt\n",
    "from sklearn import linear_model\n",
    "\n",
    "from sklearn.metrics.pairwise import rbf_kernel\n",
    "from sklearn.linear_model import Ridge\n",
    "import matplotlib.pyplot as plt\n",
    "\n",
    "from sklearn.cross_validation import cross_val_score\n",
    "from sklearn.model_selection import train_test_split\n",
    "from sklearn import metrics\n",
    "\n",
    "from itertools import product"
   ]
  },
  {
   "cell_type": "code",
   "execution_count": 2,
   "metadata": {
    "collapsed": true
   },
   "outputs": [],
   "source": [
    "years = range(2011, 2017)\n",
    "files = ['./yosemite_village/CRNS0101-05-%d-CA_Yosemite_Village_12_W.txt' % y for y in years]\n",
    "usecols = [1, 2, 8]\n",
    "\n",
    "data = [np.loadtxt(f, usecols=usecols) for f in files]\n",
    "data = np.vstack(data)"
   ]
  },
  {
   "cell_type": "code",
   "execution_count": 3,
   "metadata": {
    "collapsed": true
   },
   "outputs": [],
   "source": [
    "# Map from HHmm to an integer\n",
    "data[:, 1] = np.floor_divide(data[:, 1], 100) * 60 + np.mod(data[:, 1], 100)\n",
    "valid = data[:, 2] > -1000\n",
    "\n",
    "@np.vectorize\n",
    "def extract_month(number):\n",
    "    return int(str(number)[4:6])\n",
    "    \n",
    "data[:, 0] = extract_month(data[:, 0])"
   ]
  },
  {
   "cell_type": "code",
   "execution_count": 9,
   "metadata": {},
   "outputs": [
    {
     "data": {
      "image/png": "[encoded data removed]",
      "text/plain": [
       "<matplotlib.figure.Figure at 0x7efeac848550>"
      ]
     },
     "metadata": {},
     "output_type": "display_data"
    }
   ],
   "source": [
    "x_train = data[valid, 1].reshape(-1, 1)\n",
    "y_train = data[valid, 2]\n",
    "\n",
    "\n",
    "regr = linear_model.LinearRegression()\n",
    "regr.fit(x_train, y_train)\n",
    "\n",
    "x_predict = [[0], [1435]]\n",
    "y_predict = regr.predict(x_predict)\n",
    "\n",
    "plt.scatter(data[valid, 1][288:570], data[valid, 2][288:570], label='Data', color='b')\n",
    "plt.plot(x_predict, y_predict, label='Linear prediction', color='r')\n",
    "plt.legend(loc='best')\n",
    "plt.show()"
   ]
  },
  {
   "cell_type": "markdown",
   "metadata": {},
   "source": [
    "### RBF: Sigma only, Time only"
   ]
  },
  {
   "cell_type": "code",
   "execution_count": 15,
   "metadata": {},
   "outputs": [
    {
     "name": "stdout",
     "output_type": "stream",
     "text": [
      "Sigma: 10.0\n",
      "0.0427\n",
      "Sigma: 177.82794100389228\n",
      "0.0431\n",
      "Sigma: 3162.2776601683795\n",
      "0.044\n",
      "Sigma: 56234.13251903491\n",
      "0.0443\n",
      "Sigma: 1000000.0\n",
      "0.044\n"
     ]
    }
   ],
   "source": [
    "X = data[valid, 1].reshape(-1, 1)\n",
    "\n",
    "y = data[valid, 2]\n",
    "\n",
    "x_train, x_test, y_train, y_test = train_test_split(X, y, test_size=0.4)\n",
    "\n",
    "time_centers = np.linspace(0, 1440, 500).reshape(-1, 1)\n",
    "\n",
    "alpha = 0.00001\n",
    "\n",
    "for sigma in np.logspace(2, 6, 5):\n",
    "    print(\"Sigma: {}\".format(sigma))\n",
    "    \n",
    "    regr = Ridge(alpha=alpha, fit_intercept=False)\n",
    "    \n",
    "    x_trans = rbf_kernel(x_train, time_centers, gamma=1 / sigma)\n",
    "    cv_scores = cross_val_score(regr, x_trans, y_train,\n",
    "                    cv=3, n_jobs=1, scoring=\"r2\")\n",
    "    print(np.round(np.mean(cv_scores), 4))\n",
    "    "
   ]
  },
  {
   "cell_type": "markdown",
   "metadata": {},
   "source": [
    "### RBF: Month and Time, Optimizing Sigma\n",
    "\n",
    "We use both month and day"
   ]
  },
  {
   "cell_type": "code",
   "execution_count": null,
   "metadata": {},
   "outputs": [
    {
     "name": "stdout",
     "output_type": "stream",
     "text": [
      "[[-2.10660368]\n",
      " [-2.11939097]\n",
      " [-2.11939097]\n",
      " ...\n",
      " [-1.288217  ]\n",
      " [-1.30100429]\n",
      " [-1.30100429]]\n",
      "Sigma: 0.3\n",
      "0.60486794\n",
      "Sigma: 0.3333333333333333\n",
      "0.60537368\n",
      "Sigma: 0.36666666666666664\n",
      "0.60540287\n",
      "Sigma: 0.4\n",
      "0.60542884\n",
      "Sigma: 0.43333333333333335\n",
      "0.60545978\n",
      "Sigma: 0.4666666666666667\n",
      "0.60546389\n",
      "Sigma: 0.5\n"
     ]
    }
   ],
   "source": [
    "from sklearn.preprocessing import StandardScaler\n",
    "X = data[valid, 0:2]\n",
    "y = StandardScaler().fit_transform(data[valid, 2].reshape(-1, 1))\n",
    "\n",
    "x_train, x_test, y_train, y_test = train_test_split(X, y, test_size=0.7)\n",
    "\n",
    "time_centers = np.linspace(0, 1440, 500)\n",
    "month_centers = np.linspace(0, 12, 12)\n",
    "\n",
    "centers = np.array([[pair[0], pair[1]] for pair in product(month_centers,time_centers)])\n",
    "\n",
    "alpha = 0.00001\n",
    "\n",
    "for sigma in np.linspace(0.3, 0.6, 10):\n",
    "    print(\"Sigma: {}\".format(sigma))\n",
    "    \n",
    "    regr = Ridge(alpha=alpha, fit_intercept=False)\n",
    "    \n",
    "    x_trans = rbf_kernel(x_train, centers, gamma=1 / sigma)\n",
    "    cv_scores = cross_val_score(regr, x_trans, y_train,\n",
    "                    cv=3, n_jobs=1, scoring=\"r2\")\n",
    "    print(np.round(np.mean(cv_scores), 8))\n",
    "    "
   ]
  },
  {
   "cell_type": "markdown",
   "metadata": {},
   "source": [
    "### RBF: Time and Month, optimize centers count + sigma"
   ]
  },
  {
   "cell_type": "code",
   "execution_count": null,
   "metadata": {
    "collapsed": true
   },
   "outputs": [],
   "source": [
    "X = data[valid, 1:3]\n",
    "y = data[valid, 2]\n",
    "\n",
    "x_train, x_test, y_train, y_test = train_test_split(X, y, test_size=0.6)\n",
    "\n",
    "alpha = 0.00001\n",
    "\n",
    "for sigma in np.linspace(500, 800, 5):\n",
    "    for time_center_count in range(500, 1000, 100):\n",
    "        for month_center_count in range(2, 6, 2):\n",
    "            \n",
    "            print(\"Sigma: {}\".format(sigma))\n",
    "            print(\"Month centers: {}\".format(time_center_count))\n",
    "            print(\"Time centres: {}\".format(month_center_count))\n",
    "            \n",
    "            time_centers = np.linspace(0, 1440, time_center_count)\n",
    "            month_centers = np.linspace(0, 12, month_center_count)\n",
    "\n",
    "            centers = np.array([[pair[0], pair[1]] for pair in product(time_centers, month_centers)])\n",
    "\n",
    "            regr = Ridge(alpha=alpha, fit_intercept=False)\n",
    "\n",
    "            x_trans = rbf_kernel(x_train, centers, gamma=1 / sigma)\n",
    "            cv_scores = cross_val_score(regr, x_trans, y_train,\n",
    "                            cv=3, n_jobs=1, scoring=\"r2\")\n",
    "            print(\"Result: \", np.round(np.mean(cv_scores), 8))\n",
    "            print(\"------------\")\n"
   ]
  },
  {
   "cell_type": "markdown",
   "metadata": {},
   "source": [
    "### Testing"
   ]
  },
  {
   "cell_type": "code",
   "execution_count": 6,
   "metadata": {},
   "outputs": [
    {
     "data": {
      "text/plain": [
       "-1.315374189411194"
      ]
     },
     "execution_count": 6,
     "metadata": {},
     "output_type": "execute_result"
    }
   ],
   "source": [
    "X = data[valid, 1:3]\n",
    "y = data[valid, 2]\n",
    "\n",
    "x_train, x_test, y_train, y_test = train_test_split(X, y, test_size=0.3)\n",
    "\n",
    "sigma = 600\n",
    "alpha = 0.00001\n",
    "\n",
    "\n",
    "time_center_count = 500\n",
    "month_center_count = 12\n",
    "\n",
    "time_centers = np.linspace(0, 1440, time_center_count)\n",
    "month_centers = np.linspace(0, 12, month_center_count)\n",
    "centers = np.array([[pair[0], pair[1]] for pair in product(month_centers, time_centers)])\n",
    "\n",
    "regr_prod= Ridge(alpha=alpha, fit_intercept=False)\n",
    "\n",
    "x_trans_train = rbf_kernel(x_train, centers, gamma=1/sigma)\n",
    "regr_prod.fit(x_trans_train, y_train)\n",
    "\n",
    "x_trans_test = rbf_kernel(x_test, centers, gamma=1/sigma)\n",
    "\n",
    "y_pred = regr_prod.predict(x_trans_test)\n",
    "metrics.r2_score(y_test, y_pred)"
   ]
  }
 ],
 "metadata": {
  "kernelspec": {
   "display_name": "Python 3",
   "language": "python",
   "name": "python3"
  },
  "language_info": {
   "codemirror_mode": {
    "name": "ipython",
    "version": 3
   },
   "file_extension": ".py",
   "mimetype": "text/x-python",
   "name": "python",
   "nbconvert_exporter": "python",
   "pygments_lexer": "ipython3",
   "version": "3.6.4"
  }
 },
 "nbformat": 4,
 "nbformat_minor": 2
}
