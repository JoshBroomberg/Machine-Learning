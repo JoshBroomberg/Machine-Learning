{
 "cells": [
  {
   "cell_type": "code",
   "execution_count": 33,
   "metadata": {
    "collapsed": true
   },
   "outputs": [],
   "source": [
    "from sklearn.svm import SVC\n",
    "from sklearn.model_selection import GridSearchCV, train_test_split\n",
    "from sklearn.pipeline import Pipeline\n",
    "from sklearn.metrics import accuracy_score, classification_report\n",
    "\n",
    "import matplotlib.pyplot as plt\n",
    "\n",
    "import time\n",
    "\n",
    "import numpy as np\n",
    "import struct\n",
    "import os\n",
    "\n",
    "import pandas as pd\n",
    "\n",
    "SEED=3"
   ]
  },
  {
   "cell_type": "markdown",
   "metadata": {},
   "source": [
    "### 1. Load and Prepare Data\n",
    "\n",
    "First, load the dataset and prepare in for SK Learn. Read and prepare are done in the **read** function. The **show** function plots a given image as a quick sanity check. For the first part of this assignment, we work with only the digits 4 and 9 so the dataset is filtered to these images only."
   ]
  },
  {
   "cell_type": "code",
   "execution_count": 2,
   "metadata": {
    "collapsed": true
   },
   "outputs": [],
   "source": [
    "# The code below was adapted from: https://gist.github.com/akesling/5358964\n",
    "\n",
    "def read(dataset = \"training\", path = \".\", digits=[]):\n",
    "    \"\"\"\n",
    "    Python function for importing the MNIST data set.  It returns two Numpy array\n",
    "    one with flattened feature vectors and one with the label of the digit.\n",
    "    \"\"\"\n",
    "\n",
    "    if dataset is \"training\":\n",
    "        fname_img = os.path.join(path, 'train-images-idx3-ubyte')\n",
    "        fname_lbl = os.path.join(path, 'train-labels-idx1-ubyte')\n",
    "    elif dataset is \"testing\":\n",
    "        fname_img = os.path.join(path, 't10k-images-idx3-ubyte')\n",
    "        fname_lbl = os.path.join(path, 't10k-labels-idx1-ubyte')\n",
    "    else:\n",
    "        raise ValueError(\"dataset must be 'testing' or 'training'\")\n",
    "\n",
    "    with open(fname_lbl, 'rb') as flbl:\n",
    "        magic, num = struct.unpack(\">II\", flbl.read(8))\n",
    "        lbl = np.fromfile(flbl, dtype=np.int8)\n",
    "\n",
    "    with open(fname_img, 'rb') as fimg:\n",
    "        magic, num, rows, cols = struct.unpack(\">IIII\", fimg.read(16))\n",
    "        img = np.fromfile(fimg, dtype=np.uint8).reshape(len(lbl), rows, cols)\n",
    "\n",
    "    get_img = lambda idx: (lbl[idx], img[idx])\n",
    "\n",
    "    data = []\n",
    "    for i in range(len(lbl)):\n",
    "        data.append(get_img(i))\n",
    "    \n",
    "    X = []\n",
    "    y = []\n",
    "\n",
    "    for digit, data in filter(lambda x: x[0] in digits, data):\n",
    "        X.append(data.flatten())\n",
    "        y.append(digit)\n",
    "        \n",
    "    return np.array(X), np.array(y)\n",
    "            \n",
    "\n",
    "def show(image):\n",
    "    \"\"\"\n",
    "    Render a given numpy.uint8 2D array of pixel data.\n",
    "    \"\"\"\n",
    "    from matplotlib import pyplot\n",
    "    import matplotlib as mpl\n",
    "    fig = pyplot.figure()\n",
    "    ax = fig.add_subplot(1,1,1)\n",
    "    imgplot = ax.imshow(image, cmap=mpl.cm.Greys)\n",
    "    imgplot.set_interpolation('nearest')\n",
    "    ax.xaxis.set_ticks_position('top')\n",
    "    ax.yaxis.set_ticks_position('left')\n",
    "    pyplot.show()"
   ]
  },
  {
   "cell_type": "code",
   "execution_count": 21,
   "metadata": {},
   "outputs": [
    {
     "name": "stdout",
     "output_type": "stream",
     "text": [
      "Training data\n",
      "Data shape:  (11791, 784)\n",
      "Count 4 = 5842\n",
      "Count 9 = 5949\n",
      "\n",
      "Testing data\n",
      "Data shape:  (1991, 784)\n",
      "Count 4 = 982\n",
      "Count 9 = 1009\n"
     ]
    }
   ],
   "source": [
    "digits = [4, 9]\n",
    "X, y  = read(dataset = \"training\", path = \".\", digits=digits)\n",
    "X_test, y_test  = read(dataset = \"testing\", path = \".\", digits=digits)\n",
    "\n",
    "print(\"Training data\")\n",
    "print(\"Data shape: \", X.shape)\n",
    "for digit in digits:\n",
    "    print(\"Count {} = {}\".format(digit, len(list(filter(lambda x: x == digit, y)))))\n",
    "    \n",
    "print(\"\\nTesting data\")\n",
    "print(\"Data shape: \", X_test.shape)\n",
    "for digit in digits:\n",
    "    print(\"Count {} = {}\".format(digit, len(list(filter(lambda x: x == digit, y_test)))))"
   ]
  },
  {
   "cell_type": "markdown",
   "metadata": {},
   "source": [
    "#### Plot some examples"
   ]
  },
  {
   "cell_type": "code",
   "execution_count": 5,
   "metadata": {},
   "outputs": [
    {
     "data": {
      "image/png": "[encoded data removed]",
      "text/plain": [
       "<matplotlib.figure.Figure at 0x7fae6e9906a0>"
      ]
     },
     "metadata": {},
     "output_type": "display_data"
    },
    {
     "data": {
      "image/png": "[encoded data removed]",
      "text/plain": [
       "<matplotlib.figure.Figure at 0x7fae6e999d68>"
      ]
     },
     "metadata": {},
     "output_type": "display_data"
    },
    {
     "data": {
      "image/png": "[encoded data removed]",
      "text/plain": [
       "<matplotlib.figure.Figure at 0x7fae6e999dd8>"
      ]
     },
     "metadata": {},
     "output_type": "display_data"
    },
    {
     "data": {
      "image/png": "[encoded data removed]",
      "text/plain": [
       "<matplotlib.figure.Figure at 0x7fae6e7a9320>"
      ]
     },
     "metadata": {},
     "output_type": "display_data"
    }
   ],
   "source": [
    "show(X[0].reshape((28, 28)))\n",
    "show(X[2].reshape((28, 28)))\n",
    "show(X[1].reshape((28, 28)))\n",
    "show(X[3].reshape((28, 28)))"
   ]
  },
  {
   "cell_type": "markdown",
   "metadata": {},
   "source": [
    "### 2. Model Fitting for Parameter Exploration\n",
    "\n",
    "The primary goal of this paper is to explore the fitting complexity and classification performence of three kernels - the Linear kernel, Polynomial kernel, and Radial-Basis-Function kernel. In order to get a quick and accurate picture of how the three kernels perform, we use a cross-validated grid search. This is a succinct and powerful way to try a variety of different parametrizations for an SKLearn SVM, with repetition, and then collect all relevant statistics - training time, train score, CV test score etc. Given I have no prior intuition on which kernel is actually best, or which parameters will be optimal, this is the fastest way to 'try all theories'.\n",
    "\n",
    "In the configuration below, we define 3 parameter spaces. The grid search tries every combination of the application parameters for each kernel, running a 3-fold cross-validation.\n",
    " - The **Penalty parameter (C) range** is 6 digits between $10^{-4}$ and $10^{1}$ with a value at each order of magnitude. This parameter applies to all three kernels.\n",
    " \n",
    " \n",
    " - The **Gamma parameter range** is 10 digits between $10^{-8}$ and $1$  with a value at each order of magnitude. This is only used for the Polynomial and RBF kernels.\n",
    " \n",
    " \n",
    " - The **Degree parameter range** is 3 digits: $\\{2, 3, 4\\}$ and is only used for the Polynomial kernel.\n",
    "\n",
    "Before running the grid search, we reduce the dataset size using the SKLearn train_test_split function. This is done to allow for a quick search of the full parameter space - which involves approximately 800 fits. The split is set to select a random 3000 training examples and a further 500 test examples. The test examples are irrelevant given there is a provided test set. The new train set is around 25% of the original 11791 images. It is important to note that the class labels vector is passed to the stratify argument on train_test_split to ensure that both the train set (and the test set) maintain the proportion of the digit classes in the original data - which is around 50% for 4 and 9.\n",
    "\n",
    "The grid search is then run on the training examples. The 3-fold CV means that each fit is done with $n = 2000$. "
   ]
  },
  {
   "cell_type": "code",
   "execution_count": 6,
   "metadata": {},
   "outputs": [
    {
     "data": {
      "text/plain": [
       "(3000, 784)"
      ]
     },
     "execution_count": 6,
     "metadata": {},
     "output_type": "execute_result"
    }
   ],
   "source": [
    "X_train, X_test, y_train, y_test = train_test_split(X, y, train_size=3000, \n",
    "                                                    test_size=500, random_state=SEED, stratify=y)\n",
    "X_train.shape"
   ]
  },
  {
   "cell_type": "code",
   "execution_count": 7,
   "metadata": {
    "scrolled": true
   },
   "outputs": [
    {
     "name": "stdout",
     "output_type": "stream",
     "text": [
      "Fitting 3 folds for each of 198 candidates, totalling 594 fits\n"
     ]
    },
    {
     "name": "stderr",
     "output_type": "stream",
     "text": [
      "[Parallel(n_jobs=-1)]: Done  18 tasks      | elapsed:   36.5s\n",
      "[Parallel(n_jobs=-1)]: Done 168 tasks      | elapsed:  2.9min\n",
      "[Parallel(n_jobs=-1)]: Done 418 tasks      | elapsed:  4.7min\n",
      "[Parallel(n_jobs=-1)]: Done 594 out of 594 | elapsed:  5.6min finished\n"
     ]
    },
    {
     "name": "stdout",
     "output_type": "stream",
     "text": [
      "{'classify__C': 0.1, 'classify__degree': 2, 'classify__gamma': 1.9306977288832498e-06, 'classify__kernel': 'poly'} 0.979\n",
      "CPU times: user 5.63 s, sys: 218 ms, total: 5.85 s\n",
      "Wall time: 5min 35s\n"
     ]
    }
   ],
   "source": [
    "%%time\n",
    "\n",
    "svc_pipe = Pipeline(\n",
    "    [\n",
    "        ('classify', SVC(random_state=SEED))\n",
    "    ])\n",
    "\n",
    "gamma_range = np.logspace(-8, 0, 8)\n",
    "C_range = np.logspace(-4, 1, 6)\n",
    "\n",
    "param_grid = [\n",
    "    {\n",
    "        'classify__kernel': ['rbf'],\n",
    "        'classify__C': C_range,\n",
    "        'classify__gamma': gamma_range\n",
    "    },\n",
    "    {\n",
    "        'classify__kernel': ['poly'],\n",
    "        'classify__C': C_range,\n",
    "        'classify__gamma': gamma_range,\n",
    "        'classify__degree': [2, 3, 4],\n",
    "        \n",
    "    },\n",
    "    {\n",
    "        'classify__kernel': ['linear'],\n",
    "        'classify__C': C_range\n",
    "    },\n",
    "]\n",
    "\n",
    "\n",
    "svc_grid = GridSearchCV(svc_pipe, cv=3, n_jobs=-1,\n",
    "                        param_grid=param_grid, verbose=1, return_train_score=True)\n",
    "\n",
    "svc_grid.fit(X_train, y_train)\n",
    "\n",
    "print(svc_grid.best_params_, svc_grid.best_score_)"
   ]
  },
  {
   "cell_type": "markdown",
   "metadata": {},
   "source": [
    "### 3. Analysis of Parameter Exploration Results:\n",
    "\n",
    "First, we provide code to extract summary statistics from the CV grid. This code is run to provide The average, min and max for the mean test score, mean train score and mean fit time. Here, 'mean' refers to the mean of the 3 CV runs per parameter configuration. The full results are displayed below. \n",
    "\n",
    "It is clear from the results that the Polynomial kernel and the RBF are similar in CV test-accuracy, with both scoring a maximum of around 98% with their best parameters. The polynomial confers a significant timing advantage, with the average fit time for n=2000 being 2.829 seconds vs 7.244 seconds for the RBF kernel (~2x shorter). It is important to note that the range (defined by the max/min fit time) is actually very similar for both kernels. And, further, the fit time for the best Polynomial is 1.384 seconds while for the best 1.573 seconds. So, in range and fit time for the best params, the two Kernels are very similar. More exploration of fit time/scaling will be done in section 5.\n",
    "\n",
    "It is also interesting to note that the Polynomial kernel appears more *robust* to parameter settings. The mean cv-test accuracy for the Polynomial kernel is 0.89, with min 0.505 and max 0.979 while the mean for the RBF is 0.581 with min 0.505 and max 0.978. So, it appears the Polynomial kernel has a left tail while the RBF has a right tail.\n",
    "\n",
    "These results, both in terms of fit time and score ranges, make some sense: the RBF has significantly more freedom in the functional form it models. IE, it has more capacity for functional variability. With 'incorrect' settings, it may be far to simple/complex and thus do a poor job separating the data (plus have a long training time). However, with good parameters it can do as well, if not better than, the Polynomial kernel which is essentially a 'special case' of the RBF. By this logic, the Polynomial kernel does a decent job regardless of parameterization because the form is constrained to one which always decently separating the data. In fact, it would appear that the RBF kernel will *always* perform as well as or better than the Polynomial kernel under optimal settings because, as above, the Polynomial kernel is basically a special case of the RBF. By extension, in cases where the function is slightly different from polynomial, the RBF may be able to adjust just enough to fit better. Further work is required to verify this posulations. \n",
    "\n",
    "Finally, it is worth noting that the linear kernel has a maximum score of 0.945 with an average fit time of 1 second. This is decent results in 3x less time than the Polynomial kernel. This may be useful if we prioritize training cost over perfect accuracy. However, we will see that this result does not generalize well in the next section."
   ]
  },
  {
   "cell_type": "code",
   "execution_count": 8,
   "metadata": {},
   "outputs": [
    {
     "data": {
      "text/html": [
       "<div>\n",
       "<style scoped>\n",
       "    .dataframe tbody tr th:only-of-type {\n",
       "        vertical-align: middle;\n",
       "    }\n",
       "\n",
       "    .dataframe tbody tr th {\n",
       "        vertical-align: top;\n",
       "    }\n",
       "\n",
       "    .dataframe thead th {\n",
       "        text-align: right;\n",
       "    }\n",
       "</style>\n",
       "<table border=\"1\" class=\"dataframe\">\n",
       "  <thead>\n",
       "    <tr style=\"text-align: right;\">\n",
       "      <th></th>\n",
       "      <th>mean_fit_time</th>\n",
       "      <th>mean_score_time</th>\n",
       "      <th>mean_test_score</th>\n",
       "      <th>mean_train_score</th>\n",
       "      <th>param_classify__C</th>\n",
       "      <th>param_classify__degree</th>\n",
       "      <th>param_classify__gamma</th>\n",
       "      <th>param_classify__kernel</th>\n",
       "      <th>params</th>\n",
       "      <th>rank_test_score</th>\n",
       "      <th>split0_test_score</th>\n",
       "      <th>split0_train_score</th>\n",
       "      <th>split1_test_score</th>\n",
       "      <th>split1_train_score</th>\n",
       "      <th>split2_test_score</th>\n",
       "      <th>split2_train_score</th>\n",
       "      <th>std_fit_time</th>\n",
       "      <th>std_score_time</th>\n",
       "      <th>std_test_score</th>\n",
       "      <th>std_train_score</th>\n",
       "    </tr>\n",
       "  </thead>\n",
       "  <tbody>\n",
       "    <tr>\n",
       "      <th>0</th>\n",
       "      <td>7.508348</td>\n",
       "      <td>3.448900</td>\n",
       "      <td>0.504667</td>\n",
       "      <td>0.504667</td>\n",
       "      <td>0.0001</td>\n",
       "      <td>NaN</td>\n",
       "      <td>1e-08</td>\n",
       "      <td>rbf</td>\n",
       "      <td>{'classify__C': 0.0001, 'classify__gamma': 1e-...</td>\n",
       "      <td>137</td>\n",
       "      <td>0.504496</td>\n",
       "      <td>0.504752</td>\n",
       "      <td>0.505</td>\n",
       "      <td>0.5045</td>\n",
       "      <td>0.504505</td>\n",
       "      <td>0.504748</td>\n",
       "      <td>0.025993</td>\n",
       "      <td>0.059709</td>\n",
       "      <td>0.000236</td>\n",
       "      <td>0.000118</td>\n",
       "    </tr>\n",
       "    <tr>\n",
       "      <th>1</th>\n",
       "      <td>7.303214</td>\n",
       "      <td>3.561730</td>\n",
       "      <td>0.504667</td>\n",
       "      <td>0.504667</td>\n",
       "      <td>0.0001</td>\n",
       "      <td>NaN</td>\n",
       "      <td>1.3895e-07</td>\n",
       "      <td>rbf</td>\n",
       "      <td>{'classify__C': 0.0001, 'classify__gamma': 1.3...</td>\n",
       "      <td>137</td>\n",
       "      <td>0.504496</td>\n",
       "      <td>0.504752</td>\n",
       "      <td>0.505</td>\n",
       "      <td>0.5045</td>\n",
       "      <td>0.504505</td>\n",
       "      <td>0.504748</td>\n",
       "      <td>0.041617</td>\n",
       "      <td>0.022732</td>\n",
       "      <td>0.000236</td>\n",
       "      <td>0.000118</td>\n",
       "    </tr>\n",
       "    <tr>\n",
       "      <th>2</th>\n",
       "      <td>7.243295</td>\n",
       "      <td>3.549647</td>\n",
       "      <td>0.504667</td>\n",
       "      <td>0.504667</td>\n",
       "      <td>0.0001</td>\n",
       "      <td>NaN</td>\n",
       "      <td>1.9307e-06</td>\n",
       "      <td>rbf</td>\n",
       "      <td>{'classify__C': 0.0001, 'classify__gamma': 1.9...</td>\n",
       "      <td>137</td>\n",
       "      <td>0.504496</td>\n",
       "      <td>0.504752</td>\n",
       "      <td>0.505</td>\n",
       "      <td>0.5045</td>\n",
       "      <td>0.504505</td>\n",
       "      <td>0.504748</td>\n",
       "      <td>0.036736</td>\n",
       "      <td>0.030227</td>\n",
       "      <td>0.000236</td>\n",
       "      <td>0.000118</td>\n",
       "    </tr>\n",
       "    <tr>\n",
       "      <th>3</th>\n",
       "      <td>7.269330</td>\n",
       "      <td>3.540244</td>\n",
       "      <td>0.504667</td>\n",
       "      <td>0.504667</td>\n",
       "      <td>0.0001</td>\n",
       "      <td>NaN</td>\n",
       "      <td>2.6827e-05</td>\n",
       "      <td>rbf</td>\n",
       "      <td>{'classify__C': 0.0001, 'classify__gamma': 2.6...</td>\n",
       "      <td>137</td>\n",
       "      <td>0.504496</td>\n",
       "      <td>0.504752</td>\n",
       "      <td>0.505</td>\n",
       "      <td>0.5045</td>\n",
       "      <td>0.504505</td>\n",
       "      <td>0.504748</td>\n",
       "      <td>0.055840</td>\n",
       "      <td>0.023172</td>\n",
       "      <td>0.000236</td>\n",
       "      <td>0.000118</td>\n",
       "    </tr>\n",
       "    <tr>\n",
       "      <th>4</th>\n",
       "      <td>7.161787</td>\n",
       "      <td>3.497110</td>\n",
       "      <td>0.504667</td>\n",
       "      <td>0.504667</td>\n",
       "      <td>0.0001</td>\n",
       "      <td>NaN</td>\n",
       "      <td>0.000372759</td>\n",
       "      <td>rbf</td>\n",
       "      <td>{'classify__C': 0.0001, 'classify__gamma': 0.0...</td>\n",
       "      <td>137</td>\n",
       "      <td>0.504496</td>\n",
       "      <td>0.504752</td>\n",
       "      <td>0.505</td>\n",
       "      <td>0.5045</td>\n",
       "      <td>0.504505</td>\n",
       "      <td>0.504748</td>\n",
       "      <td>0.050968</td>\n",
       "      <td>0.023813</td>\n",
       "      <td>0.000236</td>\n",
       "      <td>0.000118</td>\n",
       "    </tr>\n",
       "  </tbody>\n",
       "</table>\n",
       "</div>"
      ],
      "text/plain": [
       "   mean_fit_time  mean_score_time  mean_test_score  mean_train_score  \\\n",
       "0       7.508348         3.448900         0.504667          0.504667   \n",
       "1       7.303214         3.561730         0.504667          0.504667   \n",
       "2       7.243295         3.549647         0.504667          0.504667   \n",
       "3       7.269330         3.540244         0.504667          0.504667   \n",
       "4       7.161787         3.497110         0.504667          0.504667   \n",
       "\n",
       "  param_classify__C param_classify__degree param_classify__gamma  \\\n",
       "0            0.0001                    NaN                 1e-08   \n",
       "1            0.0001                    NaN            1.3895e-07   \n",
       "2            0.0001                    NaN            1.9307e-06   \n",
       "3            0.0001                    NaN            2.6827e-05   \n",
       "4            0.0001                    NaN           0.000372759   \n",
       "\n",
       "  param_classify__kernel                                             params  \\\n",
       "0                    rbf  {'classify__C': 0.0001, 'classify__gamma': 1e-...   \n",
       "1                    rbf  {'classify__C': 0.0001, 'classify__gamma': 1.3...   \n",
       "2                    rbf  {'classify__C': 0.0001, 'classify__gamma': 1.9...   \n",
       "3                    rbf  {'classify__C': 0.0001, 'classify__gamma': 2.6...   \n",
       "4                    rbf  {'classify__C': 0.0001, 'classify__gamma': 0.0...   \n",
       "\n",
       "   rank_test_score  split0_test_score  split0_train_score  split1_test_score  \\\n",
       "0              137           0.504496            0.504752              0.505   \n",
       "1              137           0.504496            0.504752              0.505   \n",
       "2              137           0.504496            0.504752              0.505   \n",
       "3              137           0.504496            0.504752              0.505   \n",
       "4              137           0.504496            0.504752              0.505   \n",
       "\n",
       "   split1_train_score  split2_test_score  split2_train_score  std_fit_time  \\\n",
       "0              0.5045           0.504505            0.504748      0.025993   \n",
       "1              0.5045           0.504505            0.504748      0.041617   \n",
       "2              0.5045           0.504505            0.504748      0.036736   \n",
       "3              0.5045           0.504505            0.504748      0.055840   \n",
       "4              0.5045           0.504505            0.504748      0.050968   \n",
       "\n",
       "   std_score_time  std_test_score  std_train_score  \n",
       "0        0.059709        0.000236         0.000118  \n",
       "1        0.022732        0.000236         0.000118  \n",
       "2        0.030227        0.000236         0.000118  \n",
       "3        0.023172        0.000236         0.000118  \n",
       "4        0.023813        0.000236         0.000118  "
      ]
     },
     "execution_count": 8,
     "metadata": {},
     "output_type": "execute_result"
    }
   ],
   "source": [
    "results = svc_grid.cv_results_\n",
    "results_data = pd.DataFrame.from_dict(results)\n",
    "results_data.to_csv(\"results_1.csv\")\n",
    "results_data.head()"
   ]
  },
  {
   "cell_type": "code",
   "execution_count": 9,
   "metadata": {
    "collapsed": true,
    "scrolled": false
   },
   "outputs": [],
   "source": [
    "# Extract summary results from the gird search results.\n",
    "\n",
    "def get_field_summary(field, split_param, split_param_value, verbose=True, decimals=3):\n",
    "    '''\n",
    "    Output the average, min, max for a given field in SKLearn\n",
    "    GridSearch results, filtering on any field/values. Optionally\n",
    "    output the parameters which maximize the field.\n",
    "    '''\n",
    "    \n",
    "    values = []\n",
    "    first = None\n",
    "    \n",
    "    for i, result in enumerate(svc_grid.cv_results_[field]):\n",
    "        \n",
    "        if svc_grid.cv_results_[\"params\"][i][split_param] == split_param_value:\n",
    "            if first is None:\n",
    "                first = i\n",
    "                \n",
    "            values.append(result)\n",
    "    \n",
    "    average = np.round(np.mean(values), decimals)\n",
    "    maxi, mini = np.round(np.max(values), decimals), np.round(np.min(values), decimals)\n",
    "    index_maxi, index_mini = np.argmax(values), np.argmin(values)\n",
    "    \n",
    "    if verbose:\n",
    "        print(\"Average '{}' for '{}={}' is: {}\".format(field, split_param, split_param_value, average))\n",
    "        print(\"Max/Min '{}' for '{}={}' are: {}/{}\".format(field, split_param, split_param_value, maxi, mini))\n",
    "        \n",
    "    if verbose == 2: \n",
    "        print(\"Best Params: {}\".format(svc_grid.cv_results_[\"params\"][first + index_maxi]))\n",
    "        print(\"Time for best: {}\".format(np.round(svc_grid.cv_results_[\"mean_fit_time\"][first + index_maxi], decimals)))\n"
   ]
  },
  {
   "cell_type": "markdown",
   "metadata": {},
   "source": [
    "#### Results Output"
   ]
  },
  {
   "cell_type": "code",
   "execution_count": 10,
   "metadata": {
    "scrolled": false
   },
   "outputs": [
    {
     "name": "stdout",
     "output_type": "stream",
     "text": [
      "Summary for Kernel field:\n",
      "------------\n",
      "\n",
      "Kernel=poly:\n",
      "\n",
      "Average 'mean_test_score' for 'classify__kernel=poly' is: 0.89\n",
      "Max/Min 'mean_test_score' for 'classify__kernel=poly' are: 0.979/0.505\n",
      "Best Params: {'classify__C': 0.1, 'classify__degree': 2, 'classify__gamma': 1.9306977288832498e-06, 'classify__kernel': 'poly'}\n",
      "Time for best: 1.384\n",
      "\n",
      "\n",
      "Average 'mean_train_score' for 'classify__kernel=poly' is: 0.908\n",
      "Max/Min 'mean_train_score' for 'classify__kernel=poly' are: 1.0/0.505\n",
      "Best Params: {'classify__C': 0.0001, 'classify__degree': 2, 'classify__gamma': 0.0003727593720314938, 'classify__kernel': 'poly'}\n",
      "Time for best: 1.378\n",
      "\n",
      "\n",
      "Average 'mean_fit_time' for 'classify__kernel=poly' is: 2.829\n",
      "Max/Min 'mean_fit_time' for 'classify__kernel=poly' are: 7.862/1.209\n",
      "\n",
      "\n",
      "------\n",
      "\n",
      "Kernel=rbf:\n",
      "\n",
      "Average 'mean_test_score' for 'classify__kernel=rbf' is: 0.581\n",
      "Max/Min 'mean_test_score' for 'classify__kernel=rbf' are: 0.978/0.505\n",
      "Best Params: {'classify__C': 10.0, 'classify__gamma': 1.389495494373136e-07, 'classify__kernel': 'rbf'}\n",
      "Time for best: 1.573\n",
      "\n",
      "\n",
      "Average 'mean_train_score' for 'classify__kernel=rbf' is: 0.689\n",
      "Max/Min 'mean_train_score' for 'classify__kernel=rbf' are: 1.0/0.505\n",
      "Best Params: {'classify__C': 1.0, 'classify__gamma': 2.6826957952797274e-05, 'classify__kernel': 'rbf'}\n",
      "Time for best: 8.044\n",
      "\n",
      "\n",
      "Average 'mean_fit_time' for 'classify__kernel=rbf' is: 7.244\n",
      "Max/Min 'mean_fit_time' for 'classify__kernel=rbf' are: 8.095/1.573\n",
      "\n",
      "\n",
      "------\n",
      "\n",
      "Kernel=linear:\n",
      "\n",
      "Average 'mean_test_score' for 'classify__kernel=linear' is: 0.945\n",
      "Max/Min 'mean_test_score' for 'classify__kernel=linear' are: 0.945/0.945\n",
      "Best Params: {'classify__C': 0.0001, 'classify__kernel': 'linear'}\n",
      "Time for best: 1.235\n",
      "\n",
      "\n",
      "Average 'mean_train_score' for 'classify__kernel=linear' is: 1.0\n",
      "Max/Min 'mean_train_score' for 'classify__kernel=linear' are: 1.0/1.0\n",
      "Best Params: {'classify__C': 0.0001, 'classify__kernel': 'linear'}\n",
      "Time for best: 1.235\n",
      "\n",
      "\n",
      "Average 'mean_fit_time' for 'classify__kernel=linear' is: 1.015\n",
      "Max/Min 'mean_fit_time' for 'classify__kernel=linear' are: 1.235/0.79\n",
      "\n",
      "\n",
      "------\n",
      "\n"
     ]
    }
   ],
   "source": [
    "data_fields = {\"mean_test_score\": 2, \"mean_train_score\": 2, \"mean_fit_time\": 1}\n",
    "levels_info = {\n",
    "    \"classify__kernel\": {\"levels\": [\"poly\", \"rbf\", \"linear\"], \"name\": \"Kernel\"}\n",
    "}\n",
    "\n",
    "for field, field_info in levels_info.items():\n",
    "    print(\"Summary for {} field:\\n------------\\n\".format(field_info[\"name\"]))\n",
    "    for level in field_info[\"levels\"]:\n",
    "        print(\"{}={}:\\n\".format(field_info[\"name\"], level))\n",
    "        for data_field, verbosity in data_fields.items():\n",
    "            get_field_summary(data_field, field, level, verbose=verbosity)\n",
    "            print(\"\\n\")\n",
    "        print(\"------\\n\")"
   ]
  },
  {
   "cell_type": "markdown",
   "metadata": {},
   "source": [
    "### 4. Performence Analysis for Best Parameters\n",
    "\n",
    "We now fit the best parameters for the RBF and Polynomial kernels on the full dataset and then use the MNIST test set to rate their performence.\n",
    "\n",
    "The RBF kernel achieves an accuracy score of 0.991 (or an error rate of 0.95%) with a fit time of 11.54 seconds. The Polynomial kernel achieves an accuracy score of 0.988 (or an error rate of 1.15%) with a fit time of 10.332 seconds. Firstly, this appears to confirm the intuition that at optimal settings, the RBF kernel will outperform the Polynomial kernel due to it's slightly more flexible form. Although it must be said that these results are very similar. Second, it is worth noting that these results are in line with the error rates reported by Ya LeCunn which are 1.4% for an SVM with an RBF Kernel and 1.1% for a Polynomial kernel (although his parameterization is different). The classification report for both models reveals no meaningful false positive/negative dynamic. The fit times for a 4x increase in data have increased by around 10x, this is explored in the next section.\n",
    "\n",
    "The fit for the linear kernel shows a significantly worse fit time performence than indicated in the CV, with the fit taking ~30 seconds. We can no longer be so certain that this model will be useful when computation is expensive.  "
   ]
  },
  {
   "cell_type": "code",
   "execution_count": 35,
   "metadata": {},
   "outputs": [
    {
     "name": "stdout",
     "output_type": "stream",
     "text": [
      "Polynomial kernel\n",
      "Fit time for n=11791: 10.353140115737915 seconds\n",
      "Accuracy: 0.9884480160723255\n",
      "             precision    recall  f1-score   support\n",
      "\n",
      "          4       0.99      0.99      0.99       985\n",
      "          9       0.99      0.99      0.99      1006\n",
      "\n",
      "avg / total       0.99      0.99      0.99      1991\n",
      "\n",
      "-------------\n",
      "RBF kernel\n",
      "Fit time for n=11791: 11.55987000465393 seconds\n",
      "Accuracy: 0.9909593169261678\n",
      "             precision    recall  f1-score   support\n",
      "\n",
      "          4       0.99      0.99      0.99       980\n",
      "          9       0.99      0.99      0.99      1011\n",
      "\n",
      "avg / total       0.99      0.99      0.99      1991\n",
      "\n",
      "-------------\n",
      "Linear kernel\n",
      "Fit time for n=11791: 30.060826778411865 seconds\n",
      "Accuracy: 0.9653440482169764\n",
      "             precision    recall  f1-score   support\n",
      "\n",
      "          4       0.97      0.96      0.96       985\n",
      "          9       0.96      0.97      0.97      1006\n",
      "\n",
      "avg / total       0.97      0.97      0.97      1991\n",
      "\n",
      "-------------\n"
     ]
    }
   ],
   "source": [
    "poly_best_params = {'C': 0.1, 'degree': 2, 'gamma': 1.9306977288832498e-06, 'kernel': 'poly'}\n",
    "rbf_best_params = {'C': 10.0, 'gamma': 1.389495494373136e-07, 'kernel': 'rbf'}\n",
    "linear_best_params = {'C': 0.0001, 'kernel': 'linear'}\n",
    "\n",
    "params = {\n",
    "    \"Polynomial\": poly_best_params,\n",
    "    \"RBF\": rbf_best_params,\n",
    "    \"Linear\": linear_best_params\n",
    "}\n",
    "\n",
    "for kernel, param in params.items():\n",
    "    svc = SVC(random_state=SEED, **param)\n",
    "    \n",
    "    start = time.time()\n",
    "    svc.fit(X, y)\n",
    "    fit_time = time.time() - start\n",
    "    \n",
    "    predictions = svc.predict(X_test)\n",
    "    \n",
    "    accuracy = accuracy_score(predictions, y_test)\n",
    "    \n",
    "    \n",
    "    print(\"{} kernel\".format(kernel))\n",
    "    print(\"Fit time for n={}: {} seconds\".format(X.shape[0], fit_time))\n",
    "    print(\"Accuracy: {}\".format(accuracy))\n",
    "    print(classification_report(predictions, y_test))\n",
    "    print(\"-------------\")\n",
    "\n"
   ]
  },
  {
   "cell_type": "markdown",
   "metadata": {},
   "source": [
    "### 5. Scaling Behavior\n",
    "\n",
    "The final exploration focuses on scaling behaviour for the three kernels. In order to establish this, we use the same dataset reduction method as above, using test_train_split from SKLearn. We run a fit five times for 8 dataset sizes on a log scale between n=100 and n=10000 collecting mean fit time, predict time, and accuracy score. The accuracy is always tested using 1000 data points. The fit time is plotted log-log and a linear fit is run. The accuracy is plotted on a semi-log with dataset size logged.\n",
    "\n",
    "The linear relationship on the log-log plots show that the RBF and Polynomial both have polynomial scaling behaviour with very similar polynomial powers of ~1.5. It appears that both kernels experience logarithmic gains from more data with gains slowing as the accuracy approaches 1. The Linear kernel also appears to have polynomial complexity but with a higher coefficient of ~1.8. Both its scaling and accuracy gains are less regular than the other two kernels. It is unclear what exactly drives this behaviour but it is probably the fact that a model which fits the data relatively poorly will get haphazard gains with increased data."
   ]
  },
  {
   "cell_type": "code",
   "execution_count": 40,
   "metadata": {},
   "outputs": [],
   "source": [
    "def svc_runner(n, clf_kwargs):\n",
    "    x_train, x_test, y_train, y_test = train_test_split(X, y, train_size=n, test_size=1000)\n",
    "\n",
    "    if len(clf_kwargs)==0:\n",
    "        clf = SVC(C=1.0, kernel='rbf', gamma='auto')\n",
    "    else:\n",
    "        clf = SVC(**clf_kwargs)\n",
    "\n",
    "    train_start = time.time()\n",
    "    clf.fit(x_train, y_train)\n",
    "    train_time = time.time() - train_start\n",
    "    \n",
    "    classify_start = time.time()\n",
    "    y_pred = clf.predict(x_test)\n",
    "    classify_time = time.time() - classify_start\n",
    "    \n",
    "    score = accuracy_score(y_pred, y_test)\n",
    "    \n",
    "    return (train_time, classify_time, score)\n",
    "\n",
    "def test_battery(n_levels, trials=5, clf_kwargs={}):\n",
    "    results = []\n",
    "    for n_level in n_levels:\n",
    "        print(\"Running with n={}\".format(int(n_level)))\n",
    "        trial_results = []\n",
    "        for i in range(trials):\n",
    "            train_time, classify_time, score = svc_runner(int(n_level), clf_kwargs=clf_kwargs)\n",
    "            trial_results.append([train_time, classify_time, score])\n",
    "        \n",
    "        print(\"Done {} trials\".format(trials))\n",
    "        \n",
    "        results.append(np.sum(trial_results, axis=0)/float(trials))\n",
    "    \n",
    "    return np.array(results)"
   ]
  },
  {
   "cell_type": "code",
   "execution_count": 58,
   "metadata": {
    "scrolled": false
   },
   "outputs": [
    {
     "name": "stdout",
     "output_type": "stream",
     "text": [
      "Polynomial Kernel\n",
      "\n",
      "Collecting results:\n",
      "Running with n=100\n",
      "Done 5 trials\n",
      "Running with n=193\n",
      "Done 5 trials\n",
      "Running with n=372\n",
      "Done 5 trials\n",
      "Running with n=719\n",
      "Done 5 trials\n",
      "Running with n=1389\n",
      "Done 5 trials\n",
      "Running with n=2682\n",
      "Done 5 trials\n",
      "Running with n=5179\n",
      "Done 5 trials\n",
      "Running with n=10000\n",
      "Done 5 trials\n"
     ]
    },
    {
     "data": {
      "image/png": "[encoded data removed]",
      "text/plain": [
       "<matplotlib.figure.Figure at 0x7fae6d5f6898>"
      ]
     },
     "metadata": {},
     "output_type": "display_data"
    },
    {
     "name": "stdout",
     "output_type": "stream",
     "text": [
      "Log-log scaling coefficient: 1.5451462980042183\n"
     ]
    },
    {
     "data": {
      "image/png": "[encoded data removed]",
      "text/plain": [
       "<matplotlib.figure.Figure at 0x7fae6db35ef0>"
      ]
     },
     "metadata": {},
     "output_type": "display_data"
    },
    {
     "name": "stdout",
     "output_type": "stream",
     "text": [
      "-------------\n",
      "RBF Kernel\n",
      "\n",
      "Collecting results:\n",
      "Running with n=100\n",
      "Done 5 trials\n",
      "Running with n=193\n",
      "Done 5 trials\n",
      "Running with n=372\n",
      "Done 5 trials\n",
      "Running with n=719\n",
      "Done 5 trials\n",
      "Running with n=1389\n",
      "Done 5 trials\n",
      "Running with n=2682\n",
      "Done 5 trials\n",
      "Running with n=5179\n",
      "Done 5 trials\n",
      "Running with n=10000\n",
      "Done 5 trials\n"
     ]
    },
    {
     "data": {
      "image/png": "[encoded data removed]",
      "text/plain": [
       "<matplotlib.figure.Figure at 0x7fae6db2fef0>"
      ]
     },
     "metadata": {},
     "output_type": "display_data"
    },
    {
     "name": "stdout",
     "output_type": "stream",
     "text": [
      "Log-log scaling coefficient: 1.5264319224615388\n"
     ]
    },
    {
     "data": {
      "image/png": "[encoded data removed]",
      "text/plain": [
       "<matplotlib.figure.Figure at 0x7fae6d5f6f28>"
      ]
     },
     "metadata": {},
     "output_type": "display_data"
    },
    {
     "name": "stdout",
     "output_type": "stream",
     "text": [
      "-------------\n",
      "Linear Kernel\n",
      "\n",
      "Collecting results:\n",
      "Running with n=100\n",
      "Done 5 trials\n",
      "Running with n=193\n",
      "Done 5 trials\n",
      "Running with n=372\n",
      "Done 5 trials\n",
      "Running with n=719\n",
      "Done 5 trials\n",
      "Running with n=1389\n",
      "Done 5 trials\n",
      "Running with n=2682\n",
      "Done 5 trials\n",
      "Running with n=5179\n",
      "Done 5 trials\n",
      "Running with n=10000\n",
      "Done 5 trials\n"
     ]
    },
    {
     "data": {
      "image/png": "[encoded data removed]",
      "text/plain": [
       "<matplotlib.figure.Figure at 0x7fae6db33240>"
      ]
     },
     "metadata": {},
     "output_type": "display_data"
    },
    {
     "name": "stdout",
     "output_type": "stream",
     "text": [
      "Log-log scaling coefficient: 1.7923528593176477\n"
     ]
    },
    {
     "data": {
      "image/png": "[encoded data removed]",
      "text/plain": [
       "<matplotlib.figure.Figure at 0x7fae6e773a20>"
      ]
     },
     "metadata": {},
     "output_type": "display_data"
    },
    {
     "name": "stdout",
     "output_type": "stream",
     "text": [
      "-------------\n"
     ]
    }
   ],
   "source": [
    "levels = np.logspace(2, 4, 8)\n",
    "xs = np.linspace(4, 10, 100)\n",
    "\n",
    "for kernel, param in params.items():\n",
    "    print(\"{} Kernel\\n\".format(kernel))\n",
    "    \n",
    "    print(\"Collecting results:\")\n",
    "    results = test_battery(levels, clf_kwargs=param)\n",
    "    \n",
    "    plt.scatter(np.log(levels), np.log(results[:, 0]))\n",
    "    plt.title(\"Scaling Behaviour of {} kernel\".format(kernel))\n",
    "    plt.ylabel(\"Log Fit Time\")\n",
    "    plt.xlabel(\"Log Train Set Size\")\n",
    "    coeffs = np.polyfit(np.log(levels), np.log(results[:, 0]), deg=1)\n",
    "    plt.plot(xs, coeffs[0]*xs + coeffs[1], c=\"red\")\n",
    "    plt.show()\n",
    "    print(\"Log-log scaling coefficient: {}\".format(coeffs[0]))\n",
    "    \n",
    "    \n",
    "    plt.scatter(np.log(levels), results[:, 2])\n",
    "    plt.title(\"Accuracy Gain of {} kernel\".format(kernel))\n",
    "    plt.ylabel(\"Accuracy\")\n",
    "    plt.xlabel(\"Log Train Set Size\")\n",
    "    plt.show()\n",
    "\n",
    "    print(\"-------------\")"
   ]
  }
 ],
 "metadata": {
  "kernelspec": {
   "display_name": "Python 3",
   "language": "python",
   "name": "python3"
  },
  "language_info": {
   "codemirror_mode": {
    "name": "ipython",
    "version": 3
   },
   "file_extension": ".py",
   "mimetype": "text/x-python",
   "name": "python",
   "nbconvert_exporter": "python",
   "pygments_lexer": "ipython3",
   "version": "3.6.4"
  }
 },
 "nbformat": 4,
 "nbformat_minor": 2
}
